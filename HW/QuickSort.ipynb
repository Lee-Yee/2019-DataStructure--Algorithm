{
 "cells": [
  {
   "cell_type": "code",
   "execution_count": 36,
   "metadata": {},
   "outputs": [],
   "source": [
    "def quickSort(mylist):\n",
    "    quickSort2(mylist,0,len(mylist)-1)"
   ]
  },
  {
   "cell_type": "code",
   "execution_count": 37,
   "metadata": {},
   "outputs": [],
   "source": [
    "def quickSort2(mylist,first,last):\n",
    "    if first<last:\n",
    "        splitpoint = partition(mylist,first,last)\n",
    "        quickSort2(mylist,first,splitpoint-1)\n",
    "        quickSort2(mylist,splitpoint+1,last)"
   ]
  },
  {
   "cell_type": "code",
   "execution_count": 38,
   "metadata": {},
   "outputs": [],
   "source": [
    "def partition(mylist,first,last):\n",
    "    pivotvalue = mylist[first]\n",
    "    left = first+1\n",
    "    right = last\n",
    "    done = False\n",
    "    while not done:\n",
    "        while left <= right and mylist[left] <= pivotvalue:\n",
    "            left = left + 1\n",
    "        while mylist[right] >= pivotvalue and right >= left:\n",
    "            right = right -1\n",
    "        if right < left:\n",
    "            done = True\n",
    "        else:\n",
    "            temp = mylist[left]\n",
    "            mylist[left] = mylist[right]\n",
    "            mylist[right] = temp\n",
    "    temp = mylist[first]\n",
    "    mylist[first] = mylist[right]\n",
    "    mylist[right] = temp\n",
    "    return right"
   ]
  },
  {
   "cell_type": "code",
   "execution_count": 35,
   "metadata": {},
   "outputs": [
    {
     "name": "stdout",
     "output_type": "stream",
     "text": [
      "[17, 20, 26, 31, 44, 54, 55, 77, 93]\n"
     ]
    }
   ],
   "source": [
    "mylist = [54,26,93,17,77,31,44,55,20]\n",
    "quickSort(mylist)\n",
    "print(mylist)"
   ]
  }
 ],
 "metadata": {
  "kernelspec": {
   "display_name": "Python 3",
   "language": "python",
   "name": "python3"
  },
  "language_info": {
   "codemirror_mode": {
    "name": "ipython",
    "version": 3
   },
   "file_extension": ".py",
   "mimetype": "text/x-python",
   "name": "python",
   "nbconvert_exporter": "python",
   "pygments_lexer": "ipython3",
   "version": "3.7.4"
  }
 },
 "nbformat": 4,
 "nbformat_minor": 2
}
