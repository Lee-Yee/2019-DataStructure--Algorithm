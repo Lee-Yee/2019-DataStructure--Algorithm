{
 "cells": [
  {
   "cell_type": "markdown",
   "metadata": {},
   "source": [
    "# BFS"
   ]
  },
  {
   "cell_type": "markdown",
   "metadata": {},
   "source": [
    "## 流程圖"
   ]
  },
  {
   "cell_type": "markdown",
   "metadata": {},
   "source": [
    "![BFS](https://i.imgur.com/juFQvDA.jpg)"
   ]
  },
  {
   "cell_type": "markdown",
   "metadata": {},
   "source": [
    "BFS就是廣度優先搜尋(Breadth-First Search)，他可以是一種樹（Tree）或圖（Graph）資料結構的搜索演算法，上圖就是以樹來呈現。以上圖為例，當我要從2走到4時，從2開始往下，到他的下一個層級就是6、8，拜訪完這個層級的所有節點，再繼續望下一個層級拜訪，直到找完為止。其實就是一種地毯式層層推進的搜尋策略，先從離起始頂點最近的層級開始造訪，然後是次近的層級，依次往外搜尋。"
   ]
  },
  {
   "cell_type": "markdown",
   "metadata": {},
   "source": [
    "# DFS"
   ]
  },
  {
   "cell_type": "markdown",
   "metadata": {},
   "source": [
    "![DFS](https://i.imgur.com/RwQBWaE.jpg)"
   ]
  },
  {
   "cell_type": "markdown",
   "metadata": {},
   "source": [
    "## 流程圖"
   ]
  },
  {
   "cell_type": "markdown",
   "metadata": {},
   "source": [
    "DFS就是深度優先搜尋（Depth-First-Search）最簡單的例子就是走迷宮。從進入迷宮開始，不管是不是岔路，只要前面有路就往前走，一直走一直走，直到撞牆為止，然後就回頭找上一個叉路口，選擇另一條路走，等到又沒路時再往回一個岔路走另一條，直到找到出口。而上圖的樹也是相同的概念。"
   ]
  },
  {
   "cell_type": "markdown",
   "metadata": {},
   "source": [
    "## BFS和DFS之比較"
   ]
  },
  {
   "cell_type": "markdown",
   "metadata": {},
   "source": [
    "由於BFS是地毯式的層級搜索，所以當層級較深的時候，子節點會較多，就會消耗較多內存。而DFS一次只需找一個子節點，所以相對於BFS就會較節省儲存空間。"
   ]
  },
  {
   "cell_type": "markdown",
   "metadata": {},
   "source": [
    "# 學習歷程"
   ]
  },
  {
   "cell_type": "code",
   "execution_count": 143,
   "metadata": {},
   "outputs": [],
   "source": [
    "from collections import defaultdict "
   ]
  },
  {
   "cell_type": "code",
   "execution_count": 158,
   "metadata": {},
   "outputs": [],
   "source": [
    "class Graph:\n",
    "    def __init__(self): \n",
    "        self.graph = defaultdict(list) \n",
    "\n",
    "    def addEdge(self, u, v): \n",
    "        self.graph[u].append(v) \n",
    "        \n",
    "    def BFS(self, s):\n",
    "        queue, visited = [], []\n",
    "        visited.append(s)\n",
    "        while queue:\n",
    "            for i in self.graph:\n",
    "                if i in visited:\n",
    "                    continue\n",
    "                else:\n",
    "                    visited.append(i)\n",
    "                    queue.append(i)\n",
    "        return"
   ]
  },
  {
   "cell_type": "code",
   "execution_count": 159,
   "metadata": {},
   "outputs": [
    {
     "name": "stdout",
     "output_type": "stream",
     "text": [
      "None\n"
     ]
    }
   ],
   "source": [
    "g= Graph()\n",
    "g.addEdge(0,1)\n",
    "g.addEdge(0,2)\n",
    "g.addEdge(1,2)\n",
    "g.addEdge(2,0)\n",
    "g.addEdge(2,3)\n",
    "g.addEdge(3,3)\n",
    "print(g.BFS(2))"
   ]
  },
  {
   "cell_type": "code",
   "execution_count": 170,
   "metadata": {},
   "outputs": [],
   "source": [
    "class Graph:\n",
    "    def __init__(self): \n",
    "        self.graph = defaultdict(list) \n",
    "\n",
    "    def addEdge(self, u, v): \n",
    "        self.graph[u].append(v) \n",
    "        \n",
    "    def BFS(self, s):\n",
    "        queue, visited = [], []\n",
    "        queue.append(s)\n",
    "        visited.append(s)\n",
    "        a = queue.pop()\n",
    "        while queue:\n",
    "            for i in self.graph[a]:\n",
    "                if i in visited:\n",
    "                    continue\n",
    "                else:\n",
    "                    visited.append(i)\n",
    "                    queue.append(i)\n",
    "        return visited"
   ]
  },
  {
   "cell_type": "code",
   "execution_count": 171,
   "metadata": {},
   "outputs": [
    {
     "name": "stdout",
     "output_type": "stream",
     "text": [
      "[2]\n"
     ]
    }
   ],
   "source": [
    "g= Graph()\n",
    "g.addEdge(0,1)\n",
    "g.addEdge(0,2)\n",
    "g.addEdge(1,2)\n",
    "g.addEdge(2,0)\n",
    "g.addEdge(2,3)\n",
    "g.addEdge(3,3)\n",
    "print(g.BFS(2))"
   ]
  },
  {
   "cell_type": "code",
   "execution_count": 172,
   "metadata": {},
   "outputs": [],
   "source": [
    "class Graph:\n",
    "    def __init__(self): \n",
    "        self.graph = defaultdict(list) \n",
    "\n",
    "    def addEdge(self, u, v): \n",
    "        self.graph[u].append(v) \n",
    "        \n",
    "    def BFS(self, s):\n",
    "        queue, visited = [], []\n",
    "        queue.append(s)\n",
    "        visited.append(s)\n",
    "        while queue:\n",
    "            a = queue.pop()\n",
    "            for i in self.graph[a]:\n",
    "                if i in visited:\n",
    "                    continue\n",
    "                else:\n",
    "                    visited.append(i)\n",
    "                    queue.append(i)\n",
    "        return visited"
   ]
  },
  {
   "cell_type": "code",
   "execution_count": 173,
   "metadata": {},
   "outputs": [
    {
     "name": "stdout",
     "output_type": "stream",
     "text": [
      "[2, 0, 3, 1]\n"
     ]
    }
   ],
   "source": [
    "g= Graph()\n",
    "g.addEdge(0,1)\n",
    "g.addEdge(0,2)\n",
    "g.addEdge(1,2)\n",
    "g.addEdge(2,0)\n",
    "g.addEdge(2,3)\n",
    "g.addEdge(3,3)\n",
    "print(g.BFS(2))"
   ]
  },
  {
   "cell_type": "code",
   "execution_count": 141,
   "metadata": {},
   "outputs": [],
   "source": [
    "class Graph:\n",
    "    def __init__(self): \n",
    "        self.graph = defaultdict(list) \n",
    "\n",
    "    def addEdge(self, u, v): \n",
    "        self.graph[u].append(v) \n",
    "        \n",
    "    def BFS(self, s):\n",
    "        queue, visited = [], []\n",
    "        queue.append(s)\n",
    "        visited.append(s)\n",
    "        while queue:\n",
    "            for i in self.graph[queue.pop()]:\n",
    "                if i in visited:\n",
    "                    continue\n",
    "                else:\n",
    "                    visited.append(i)\n",
    "                    queue.append(i)\n",
    "        return visited\n",
    "        \n",
    "    def DFS(self, s):\n",
    "        queue, visited = [], []\n",
    "        visited.append(s)  \n",
    "        for i in self.graph[s]:\n",
    "            queue.append(i)\n",
    "        while len(queue)>0: \n",
    "            a=queue.pop() \n",
    "            visited.append(a)\n",
    "            for j in self.graph[a]:\n",
    "                if j not in visited: \n",
    "                    if j not in queue: \n",
    "                        queue.append(j)\n",
    "        return visited"
   ]
  },
  {
   "cell_type": "markdown",
   "metadata": {},
   "source": [
    "# 完整程式碼"
   ]
  },
  {
   "cell_type": "code",
   "execution_count": 175,
   "metadata": {},
   "outputs": [],
   "source": [
    "class Graph:\n",
    "    def __init__(self): \n",
    "        self.graph = defaultdict(list) \n",
    "\n",
    "    def addEdge(self, u, v): \n",
    "        self.graph[u].append(v) \n",
    "        \n",
    "    def BFS(self, s):\n",
    "        queue, visited = [], []\n",
    "        queue.append(s)\n",
    "        visited.append(s)\n",
    "        while queue:\n",
    "            for i in self.graph[queue.pop()]:\n",
    "                if i in visited:\n",
    "                    continue\n",
    "                else:\n",
    "                    visited.append(i)\n",
    "                    queue.append(i)\n",
    "        return visited\n",
    "        \n",
    "    def DFS(self, s):\n",
    "        queue, visited = [], []\n",
    "        visited.append(s)  \n",
    "        for i in self.graph[s]:\n",
    "            queue.append(i)\n",
    "        while len(queue)>0: \n",
    "            a=queue.pop() \n",
    "            visited.append(a)\n",
    "            for j in self.graph[a]:\n",
    "                if j not in visited: \n",
    "                    if j not in queue: \n",
    "                        queue.append(j)\n",
    "        return visited"
   ]
  },
  {
   "cell_type": "markdown",
   "metadata": {},
   "source": [
    "## 測值"
   ]
  },
  {
   "cell_type": "code",
   "execution_count": 176,
   "metadata": {},
   "outputs": [
    {
     "name": "stdout",
     "output_type": "stream",
     "text": [
      "[2, 0, 3, 1]\n",
      "[2, 3, 0, 1]\n"
     ]
    }
   ],
   "source": [
    "g= Graph()\n",
    "g.addEdge(0,1)\n",
    "g.addEdge(0,2)\n",
    "g.addEdge(1,2)\n",
    "g.addEdge(2,0)\n",
    "g.addEdge(2,3)\n",
    "g.addEdge(3,3)\n",
    "print(g.BFS(2))\n",
    "print(g.DFS(2))"
   ]
  },
  {
   "cell_type": "markdown",
   "metadata": {},
   "source": [
    "# 參考資料"
   ]
  },
  {
   "cell_type": "markdown",
   "metadata": {},
   "source": [
    "https://www.itread01.com/content/1542363063.html\n",
    "\n",
    "https://alrightchiu.github.io/SecondRound/graph-breadth-first-searchbfsguang-du-you-xian-sou-xun.html\n",
    "\n",
    "https://alrightchiu.github.io/SecondRound/graph-depth-first-searchdfsshen-du-you-xian-sou-xun.html"
   ]
  }
 ],
 "metadata": {
  "kernelspec": {
   "display_name": "Python 3",
   "language": "python",
   "name": "python3"
  },
  "language_info": {
   "codemirror_mode": {
    "name": "ipython",
    "version": 3
   },
   "file_extension": ".py",
   "mimetype": "text/x-python",
   "name": "python",
   "nbconvert_exporter": "python",
   "pygments_lexer": "ipython3",
   "version": "3.7.4"
  }
 },
 "nbformat": 4,
 "nbformat_minor": 2
}
