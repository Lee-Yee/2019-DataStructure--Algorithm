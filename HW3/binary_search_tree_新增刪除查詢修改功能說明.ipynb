{
 "cells": [
  {
   "cell_type": "code",
   "execution_count": 5,
   "metadata": {},
   "outputs": [],
   "source": [
    "class TreeNode(object):\n",
    "    def __init__(self, x):\n",
    "        self.val = x\n",
    "        self.left = None\n",
    "        self.right = None"
   ]
  },
  {
   "cell_type": "code",
   "execution_count": 15,
   "metadata": {},
   "outputs": [],
   "source": [
    "def insert(root, val): \n",
    "    if root.val > val: \n",
    "        if root.left is None: \n",
    "            root.left = TreeNode(val)\n",
    "        else: \n",
    "            insert(root.left, val) \n",
    "    else: \n",
    "        if root is None: \n",
    "            root = TreeNode(val)\n",
    "        elif root.right is None: \n",
    "            root.right = TreeNode(val)\n",
    "        else: \n",
    "            insert(root.right, val) "
   ]
  },
  {
   "cell_type": "code",
   "execution_count": 16,
   "metadata": {},
   "outputs": [],
   "source": [
    "def search(root, target):\n",
    "    if target > root.val : \n",
    "        return search(root.right, target)\n",
    "    if root.val > target:\n",
    "        return search(root.left, target) \n",
    "    else:\n",
    "        return root"
   ]
  },
  {
   "cell_type": "code",
   "execution_count": 17,
   "metadata": {},
   "outputs": [],
   "source": [
    "def modify(root, target, new_val):\n",
    "    root = delete(root, target)  \n",
    "    root = insert(root, new_val) \n",
    "    return root "
   ]
  },
  {
   "cell_type": "code",
   "execution_count": 18,
   "metadata": {},
   "outputs": [],
   "source": [
    "def inorder(root):\n",
    "    if root is None: \n",
    "        return     \n",
    "    else:\n",
    "        inorder(root.left) \n",
    "        print(root.val)\n",
    "        inorder(root.right)"
   ]
  },
  {
   "cell_type": "code",
   "execution_count": 19,
   "metadata": {},
   "outputs": [],
   "source": [
    "def minval(root): \n",
    "    while root.left is not None:  \n",
    "        root = root.left \n",
    "    return root  "
   ]
  },
  {
   "cell_type": "code",
   "execution_count": 20,
   "metadata": {},
   "outputs": [],
   "source": [
    "def maxval(root): \n",
    "    while root.right is not None:  \n",
    "        root = root.right \n",
    "    return root"
   ]
  },
  {
   "cell_type": "code",
   "execution_count": 21,
   "metadata": {},
   "outputs": [],
   "source": [
    "def right_minval(root): \n",
    "    minval(root.rigt) "
   ]
  },
  {
   "cell_type": "code",
   "execution_count": 22,
   "metadata": {},
   "outputs": [],
   "source": [
    "def left_maxval(root): \n",
    "    maxval(root.left)"
   ]
  },
  {
   "cell_type": "code",
   "execution_count": 23,
   "metadata": {},
   "outputs": [],
   "source": [
    "def delete(root, target): \n",
    "    if root == None:  \n",
    "        return\n",
    "    if root.val > target:  \n",
    "        root.left = delete(root.left, target) \n",
    "    elif target > root.val:  \n",
    "        root.right = delete(root.right, target) \n",
    "    else: \n",
    "        if root.right != None: \n",
    "            k = root.right \n",
    "            return k \n",
    "        if root.left != None: \n",
    "            k = root.left \n",
    "            return k \n",
    "            k = left_maxval(root)  \n",
    "            root.target = k.target  \n",
    "            root.left = delete(root.left, k.target) \n",
    "    return root"
   ]
  },
  {
   "cell_type": "code",
   "execution_count": 24,
   "metadata": {},
   "outputs": [
    {
     "name": "stdout",
     "output_type": "stream",
     "text": [
      "-2\n",
      "0\n",
      "3\n",
      "3\n",
      "6\n",
      "6\n",
      "7.3\n",
      "9\n"
     ]
    }
   ],
   "source": [
    "a = TreeNode(9) \n",
    "insert(a,3) \n",
    "insert(a,0) \n",
    "insert(a,-6) \n",
    "insert(a,7.3) \n",
    "insert(a,-2) \n",
    "insert(a,3) \n",
    "insert(a,7) \n",
    "insert(a,6)\n",
    "\n",
    "delete(a,7)\n",
    "\n",
    "modify(a,-6,6)\n",
    "\n",
    "inorder(a)"
   ]
  },
  {
   "cell_type": "code",
   "execution_count": 3,
   "metadata": {},
   "outputs": [],
   "source": [
    "#參考資料\n",
    "#https://www.geeksforgeeks.org/binary-search-tree-set-1-search-and-insertion/\n",
    "#https://www.geeksforgeeks.org/how-to-implement-decrease-key-or-change-key-in-binary-search-tree/"
   ]
  },
  {
   "cell_type": "code",
   "execution_count": null,
   "metadata": {},
   "outputs": [],
   "source": []
  }
 ],
 "metadata": {
  "kernelspec": {
   "display_name": "Python 3",
   "language": "python",
   "name": "python3"
  },
  "language_info": {
   "codemirror_mode": {
    "name": "ipython",
    "version": 3
   },
   "file_extension": ".py",
   "mimetype": "text/x-python",
   "name": "python",
   "nbconvert_exporter": "python",
   "pygments_lexer": "ipython3",
   "version": "3.7.4"
  }
 },
 "nbformat": 4,
 "nbformat_minor": 2
}
