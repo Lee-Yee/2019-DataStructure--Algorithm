{
 "cells": [
  {
   "cell_type": "code",
   "execution_count": 2,
   "metadata": {},
   "outputs": [],
   "source": [
    "class TreeNode(object):\n",
    "    def __init__(self, x):\n",
    "        self.val = x\n",
    "        self.left = None\n",
    "        self.right = None"
   ]
  },
  {
   "cell_type": "code",
   "execution_count": 3,
   "metadata": {},
   "outputs": [],
   "source": [
    "def inorder(root):\n",
    "    if root is None: \n",
    "        return     \n",
    "    else:\n",
    "        inorder(root.left) \n",
    "        print(root.val)\n",
    "        inorder(root.right)"
   ]
  },
  {
   "cell_type": "markdown",
   "metadata": {},
   "source": [
    "# INSERT"
   ]
  },
  {
   "cell_type": "markdown",
   "metadata": {},
   "source": [
    "![insert](https://i.imgur.com/iqJDCf3.jpg)"
   ]
  },
  {
   "cell_type": "code",
   "execution_count": 4,
   "metadata": {},
   "outputs": [],
   "source": [
    "def insert(root, val): \n",
    "    if root.val > val:\n",
    "        if root.left != None: \n",
    "            insert(root.left, val) \n",
    "        else: \n",
    "            root.left = TreeNode(val)\n",
    "    elif root.val < val:\n",
    "        if root.right != None: \n",
    "            insert(root.right, val) \n",
    "        else:\n",
    "            root.right = TreeNode(val)"
   ]
  },
  {
   "cell_type": "code",
   "execution_count": 6,
   "metadata": {},
   "outputs": [
    {
     "name": "stdout",
     "output_type": "stream",
     "text": [
      "-6\n",
      "-2\n",
      "0\n",
      "3\n",
      "5\n",
      "6\n",
      "7.3\n",
      "11\n"
     ]
    }
   ],
   "source": [
    "a = TreeNode(5) \n",
    "insert(a,3) \n",
    "insert(a,0) \n",
    "insert(a,-6) \n",
    "insert(a,7.3) \n",
    "insert(a,-2) \n",
    "insert(a,3) \n",
    "insert(a,11) \n",
    "insert(a,6)\n",
    "inorder(a)"
   ]
  },
  {
   "cell_type": "markdown",
   "metadata": {},
   "source": [
    "在這裡我發現我加了兩次3，卻只有出現一次，看來是忘記有等於的狀況。所以我多加了一段等於的if。"
   ]
  },
  {
   "cell_type": "code",
   "execution_count": 58,
   "metadata": {},
   "outputs": [],
   "source": [
    "def insert(root, val): \n",
    "    if root.val > val: \n",
    "        if root.left != None: \n",
    "            insert(root.left, val) \n",
    "        else:\n",
    "            root.left = TreeNode(val)\n",
    "    if root.val == val: \n",
    "        if root.left != None:\n",
    "            insert(root.left, val) \n",
    "        else: \n",
    "            root.left = TreeNode(val)\n",
    "    else:\n",
    "        if root.right != None: \n",
    "            insert(root.right, val) \n",
    "        else:\n",
    "            root.right = TreeNode(val)"
   ]
  },
  {
   "cell_type": "code",
   "execution_count": 59,
   "metadata": {
    "scrolled": true
   },
   "outputs": [
    {
     "name": "stdout",
     "output_type": "stream",
     "text": [
      "-6\n",
      "-2\n",
      "0\n",
      "-6\n",
      "-2\n",
      "3\n",
      "3\n",
      "-6\n",
      "-2\n",
      "0\n",
      "-6\n",
      "-2\n",
      "6\n",
      "7.3\n",
      "-2\n",
      "6\n",
      "9\n",
      "-6\n",
      "-2\n",
      "0\n",
      "-6\n",
      "-2\n",
      "3\n",
      "3\n",
      "-6\n",
      "-2\n",
      "0\n",
      "-6\n",
      "-2\n",
      "6\n",
      "7.3\n",
      "-2\n",
      "6\n",
      "11\n",
      "6\n"
     ]
    }
   ],
   "source": [
    "a = TreeNode(5) \n",
    "insert(a,3) \n",
    "insert(a,0) \n",
    "insert(a,-6) \n",
    "insert(a,7.3) \n",
    "insert(a,-2) \n",
    "insert(a,3) \n",
    "insert(a,11) \n",
    "insert(a,6)\n",
    "inorder(a)"
   ]
  },
  {
   "cell_type": "markdown",
   "metadata": {},
   "source": [
    "天啊？！原本想說else就剩下應該是剩下輸入的值比根部的值大的的狀況，卻變成這樣，應該是還有其他else的狀況。(吧?)"
   ]
  },
  {
   "cell_type": "code",
   "execution_count": 85,
   "metadata": {},
   "outputs": [],
   "source": [
    "def insert(root, val): \n",
    "    if root.val == val: \n",
    "        if root.left != None:\n",
    "            insert(root.left, val)\n",
    "    if root.val > val: \n",
    "        if root.left != None: \n",
    "            insert(root.left, val) \n",
    "        else:\n",
    "            root.left = TreeNode(val)\n",
    "    else:\n",
    "        if root.right != None: \n",
    "            insert(root.right, val) \n",
    "        else:\n",
    "            root.right = TreeNode(val)"
   ]
  },
  {
   "cell_type": "code",
   "execution_count": 86,
   "metadata": {},
   "outputs": [
    {
     "name": "stdout",
     "output_type": "stream",
     "text": [
      "-6\n",
      "-2\n",
      "0\n",
      "3\n",
      "3\n",
      "3\n",
      "6\n",
      "7.3\n",
      "9\n",
      "10.01\n",
      "11\n"
     ]
    }
   ],
   "source": [
    "a = TreeNode(5) \n",
    "insert(a,3) \n",
    "insert(a,0) \n",
    "insert(a,-6) \n",
    "insert(a,7.3) \n",
    "insert(a,-2) \n",
    "insert(a,3) \n",
    "insert(a,11) \n",
    "insert(a,6)\n",
    "insert(a,10.01)\n",
    "inorder(a)"
   ]
  },
  {
   "cell_type": "markdown",
   "metadata": {},
   "source": [
    "好像也不是上述的問題，在這裡卡了好久，一直會多一個3。"
   ]
  },
  {
   "cell_type": "code",
   "execution_count": 61,
   "metadata": {},
   "outputs": [],
   "source": [
    "def insert(root, val): \n",
    "    if root.val >= val: \n",
    "        if root.left != None: \n",
    "            insert(root.left, val) \n",
    "        else:\n",
    "            root.left = TreeNode(val)\n",
    "    else:\n",
    "        if root.right != None: \n",
    "            insert(root.right, val) \n",
    "        else:\n",
    "            root.right = TreeNode(val)"
   ]
  },
  {
   "cell_type": "code",
   "execution_count": 62,
   "metadata": {},
   "outputs": [
    {
     "name": "stdout",
     "output_type": "stream",
     "text": [
      "-6\n",
      "-2\n",
      "0\n",
      "3\n",
      "3\n",
      "5\n",
      "6\n",
      "7.3\n",
      "10.01\n",
      "11\n"
     ]
    }
   ],
   "source": [
    "a = TreeNode(5) \n",
    "insert(a,3) \n",
    "insert(a,0) \n",
    "insert(a,-6) \n",
    "insert(a,7.3) \n",
    "insert(a,-2) \n",
    "insert(a,3) \n",
    "insert(a,11) \n",
    "insert(a,6)\n",
    "insert(a,10.01)\n",
    "inorder(a)"
   ]
  },
  {
   "cell_type": "markdown",
   "metadata": {},
   "source": [
    "終於成功了!!!!!!突然用想到>=就好了，根本不必花這麼多時間，不過自己想出來的感覺真好^^"
   ]
  },
  {
   "cell_type": "code",
   "execution_count": 63,
   "metadata": {},
   "outputs": [],
   "source": [
    "def insert(root, val): \n",
    "    if root.val >= val: #當我輸入的值比根部的值小，或等於的話，就放他左邊的節點\n",
    "        if root.left != None: #當左節點不是None->左節點有放東西\n",
    "            insert(root.left, val) #繼續往下找空的節點\n",
    "        else: #除了以上狀況就是root.left is None\n",
    "            root.left = TreeNode(val) #把新增的值放在這個空的root.left\n",
    "    else: \n",
    "        if root.right != None: #以下是當我輸入的值比根部的值大的狀況，作法同上，只是把它放在右邊節點\n",
    "            insert(root.right, val) \n",
    "        else:\n",
    "            root.right = TreeNode(val)"
   ]
  },
  {
   "cell_type": "code",
   "execution_count": 64,
   "metadata": {},
   "outputs": [
    {
     "name": "stdout",
     "output_type": "stream",
     "text": [
      "-6\n",
      "-2\n",
      "0\n",
      "3\n",
      "3\n",
      "5\n",
      "6\n",
      "7.3\n",
      "10.01\n",
      "11\n"
     ]
    }
   ],
   "source": [
    "a = TreeNode(5) \n",
    "insert(a,3) \n",
    "insert(a,0) \n",
    "insert(a,-6) \n",
    "insert(a,7.3) \n",
    "insert(a,-2) \n",
    "insert(a,3) \n",
    "insert(a,11) \n",
    "insert(a,6)\n",
    "insert(a,10.01)\n",
    "inorder(a)"
   ]
  },
  {
   "cell_type": "markdown",
   "metadata": {},
   "source": [
    "以上是INSERT的做法加註解。"
   ]
  },
  {
   "cell_type": "code",
   "execution_count": 140,
   "metadata": {},
   "outputs": [],
   "source": [
    "def insert(root, val): \n",
    "    if root.val >= val: #當我輸入的值比根部的值小，或等於的話，就放他左邊的節點\n",
    "        if root.left != None: \n",
    "            insert(root.left, val) \n",
    "        else:\n",
    "            root.left = TreeNode(val)\n",
    "    else:\n",
    "        if root is None: #當這個TREE本來就沒東西的話\n",
    "            root = TreeNode(val) #新增的值直接當root\n",
    "        if root.right != None: \n",
    "            insert(root.right, val) \n",
    "        else:\n",
    "            root.right = TreeNode(val)"
   ]
  },
  {
   "cell_type": "markdown",
   "metadata": {},
   "source": [
    "# SEARCH"
   ]
  },
  {
   "cell_type": "markdown",
   "metadata": {},
   "source": [
    "![search](https://i.imgur.com/7hU5wPk.jpg)"
   ]
  },
  {
   "cell_type": "code",
   "execution_count": 120,
   "metadata": {},
   "outputs": [],
   "source": [
    "def search(root, target):\n",
    "    if target > root.val : \n",
    "        return search(root.right, target)\n",
    "    else:\n",
    "        return search(root.left, target) "
   ]
  },
  {
   "cell_type": "code",
   "execution_count": 121,
   "metadata": {},
   "outputs": [
    {
     "ename": "AttributeError",
     "evalue": "'NoneType' object has no attribute 'val'",
     "output_type": "error",
     "traceback": [
      "\u001b[1;31m---------------------------------------------------------------------------\u001b[0m",
      "\u001b[1;31mAttributeError\u001b[0m                            Traceback (most recent call last)",
      "\u001b[1;32m<ipython-input-121-94e0bdb8986e>\u001b[0m in \u001b[0;36m<module>\u001b[1;34m\u001b[0m\n\u001b[1;32m----> 1\u001b[1;33m \u001b[0msearch\u001b[0m\u001b[1;33m(\u001b[0m\u001b[0ma\u001b[0m\u001b[1;33m,\u001b[0m\u001b[1;36m6\u001b[0m\u001b[1;33m)\u001b[0m\u001b[1;33m\u001b[0m\u001b[1;33m\u001b[0m\u001b[0m\n\u001b[0m",
      "\u001b[1;32m<ipython-input-120-8883d2fbd414>\u001b[0m in \u001b[0;36msearch\u001b[1;34m(root, target)\u001b[0m\n\u001b[0;32m      3\u001b[0m         \u001b[1;32mreturn\u001b[0m \u001b[0msearch\u001b[0m\u001b[1;33m(\u001b[0m\u001b[0mroot\u001b[0m\u001b[1;33m.\u001b[0m\u001b[0mright\u001b[0m\u001b[1;33m,\u001b[0m \u001b[0mtarget\u001b[0m\u001b[1;33m)\u001b[0m\u001b[1;33m\u001b[0m\u001b[1;33m\u001b[0m\u001b[0m\n\u001b[0;32m      4\u001b[0m     \u001b[1;32melse\u001b[0m\u001b[1;33m:\u001b[0m\u001b[1;33m\u001b[0m\u001b[1;33m\u001b[0m\u001b[0m\n\u001b[1;32m----> 5\u001b[1;33m         \u001b[1;32mreturn\u001b[0m \u001b[0msearch\u001b[0m\u001b[1;33m(\u001b[0m\u001b[0mroot\u001b[0m\u001b[1;33m.\u001b[0m\u001b[0mleft\u001b[0m\u001b[1;33m,\u001b[0m \u001b[0mtarget\u001b[0m\u001b[1;33m)\u001b[0m\u001b[1;33m\u001b[0m\u001b[1;33m\u001b[0m\u001b[0m\n\u001b[0m",
      "\u001b[1;32m<ipython-input-120-8883d2fbd414>\u001b[0m in \u001b[0;36msearch\u001b[1;34m(root, target)\u001b[0m\n\u001b[0;32m      1\u001b[0m \u001b[1;32mdef\u001b[0m \u001b[0msearch\u001b[0m\u001b[1;33m(\u001b[0m\u001b[0mroot\u001b[0m\u001b[1;33m,\u001b[0m \u001b[0mtarget\u001b[0m\u001b[1;33m)\u001b[0m\u001b[1;33m:\u001b[0m\u001b[1;33m\u001b[0m\u001b[1;33m\u001b[0m\u001b[0m\n\u001b[0;32m      2\u001b[0m     \u001b[1;32mif\u001b[0m \u001b[0mtarget\u001b[0m \u001b[1;33m>\u001b[0m \u001b[0mroot\u001b[0m\u001b[1;33m.\u001b[0m\u001b[0mval\u001b[0m \u001b[1;33m:\u001b[0m\u001b[1;33m\u001b[0m\u001b[1;33m\u001b[0m\u001b[0m\n\u001b[1;32m----> 3\u001b[1;33m         \u001b[1;32mreturn\u001b[0m \u001b[0msearch\u001b[0m\u001b[1;33m(\u001b[0m\u001b[0mroot\u001b[0m\u001b[1;33m.\u001b[0m\u001b[0mright\u001b[0m\u001b[1;33m,\u001b[0m \u001b[0mtarget\u001b[0m\u001b[1;33m)\u001b[0m\u001b[1;33m\u001b[0m\u001b[1;33m\u001b[0m\u001b[0m\n\u001b[0m\u001b[0;32m      4\u001b[0m     \u001b[1;32melse\u001b[0m\u001b[1;33m:\u001b[0m\u001b[1;33m\u001b[0m\u001b[1;33m\u001b[0m\u001b[0m\n\u001b[0;32m      5\u001b[0m         \u001b[1;32mreturn\u001b[0m \u001b[0msearch\u001b[0m\u001b[1;33m(\u001b[0m\u001b[0mroot\u001b[0m\u001b[1;33m.\u001b[0m\u001b[0mleft\u001b[0m\u001b[1;33m,\u001b[0m \u001b[0mtarget\u001b[0m\u001b[1;33m)\u001b[0m\u001b[1;33m\u001b[0m\u001b[1;33m\u001b[0m\u001b[0m\n",
      "\u001b[1;32m<ipython-input-120-8883d2fbd414>\u001b[0m in \u001b[0;36msearch\u001b[1;34m(root, target)\u001b[0m\n\u001b[0;32m      3\u001b[0m         \u001b[1;32mreturn\u001b[0m \u001b[0msearch\u001b[0m\u001b[1;33m(\u001b[0m\u001b[0mroot\u001b[0m\u001b[1;33m.\u001b[0m\u001b[0mright\u001b[0m\u001b[1;33m,\u001b[0m \u001b[0mtarget\u001b[0m\u001b[1;33m)\u001b[0m\u001b[1;33m\u001b[0m\u001b[1;33m\u001b[0m\u001b[0m\n\u001b[0;32m      4\u001b[0m     \u001b[1;32melse\u001b[0m\u001b[1;33m:\u001b[0m\u001b[1;33m\u001b[0m\u001b[1;33m\u001b[0m\u001b[0m\n\u001b[1;32m----> 5\u001b[1;33m         \u001b[1;32mreturn\u001b[0m \u001b[0msearch\u001b[0m\u001b[1;33m(\u001b[0m\u001b[0mroot\u001b[0m\u001b[1;33m.\u001b[0m\u001b[0mleft\u001b[0m\u001b[1;33m,\u001b[0m \u001b[0mtarget\u001b[0m\u001b[1;33m)\u001b[0m\u001b[1;33m\u001b[0m\u001b[1;33m\u001b[0m\u001b[0m\n\u001b[0m",
      "\u001b[1;32m<ipython-input-120-8883d2fbd414>\u001b[0m in \u001b[0;36msearch\u001b[1;34m(root, target)\u001b[0m\n\u001b[0;32m      3\u001b[0m         \u001b[1;32mreturn\u001b[0m \u001b[0msearch\u001b[0m\u001b[1;33m(\u001b[0m\u001b[0mroot\u001b[0m\u001b[1;33m.\u001b[0m\u001b[0mright\u001b[0m\u001b[1;33m,\u001b[0m \u001b[0mtarget\u001b[0m\u001b[1;33m)\u001b[0m\u001b[1;33m\u001b[0m\u001b[1;33m\u001b[0m\u001b[0m\n\u001b[0;32m      4\u001b[0m     \u001b[1;32melse\u001b[0m\u001b[1;33m:\u001b[0m\u001b[1;33m\u001b[0m\u001b[1;33m\u001b[0m\u001b[0m\n\u001b[1;32m----> 5\u001b[1;33m         \u001b[1;32mreturn\u001b[0m \u001b[0msearch\u001b[0m\u001b[1;33m(\u001b[0m\u001b[0mroot\u001b[0m\u001b[1;33m.\u001b[0m\u001b[0mleft\u001b[0m\u001b[1;33m,\u001b[0m \u001b[0mtarget\u001b[0m\u001b[1;33m)\u001b[0m\u001b[1;33m\u001b[0m\u001b[1;33m\u001b[0m\u001b[0m\n\u001b[0m",
      "\u001b[1;32m<ipython-input-120-8883d2fbd414>\u001b[0m in \u001b[0;36msearch\u001b[1;34m(root, target)\u001b[0m\n\u001b[0;32m      1\u001b[0m \u001b[1;32mdef\u001b[0m \u001b[0msearch\u001b[0m\u001b[1;33m(\u001b[0m\u001b[0mroot\u001b[0m\u001b[1;33m,\u001b[0m \u001b[0mtarget\u001b[0m\u001b[1;33m)\u001b[0m\u001b[1;33m:\u001b[0m\u001b[1;33m\u001b[0m\u001b[1;33m\u001b[0m\u001b[0m\n\u001b[1;32m----> 2\u001b[1;33m     \u001b[1;32mif\u001b[0m \u001b[0mtarget\u001b[0m \u001b[1;33m>\u001b[0m \u001b[0mroot\u001b[0m\u001b[1;33m.\u001b[0m\u001b[0mval\u001b[0m \u001b[1;33m:\u001b[0m\u001b[1;33m\u001b[0m\u001b[1;33m\u001b[0m\u001b[0m\n\u001b[0m\u001b[0;32m      3\u001b[0m         \u001b[1;32mreturn\u001b[0m \u001b[0msearch\u001b[0m\u001b[1;33m(\u001b[0m\u001b[0mroot\u001b[0m\u001b[1;33m.\u001b[0m\u001b[0mright\u001b[0m\u001b[1;33m,\u001b[0m \u001b[0mtarget\u001b[0m\u001b[1;33m)\u001b[0m\u001b[1;33m\u001b[0m\u001b[1;33m\u001b[0m\u001b[0m\n\u001b[0;32m      4\u001b[0m     \u001b[1;32melse\u001b[0m\u001b[1;33m:\u001b[0m\u001b[1;33m\u001b[0m\u001b[1;33m\u001b[0m\u001b[0m\n\u001b[0;32m      5\u001b[0m         \u001b[1;32mreturn\u001b[0m \u001b[0msearch\u001b[0m\u001b[1;33m(\u001b[0m\u001b[0mroot\u001b[0m\u001b[1;33m.\u001b[0m\u001b[0mleft\u001b[0m\u001b[1;33m,\u001b[0m \u001b[0mtarget\u001b[0m\u001b[1;33m)\u001b[0m\u001b[1;33m\u001b[0m\u001b[1;33m\u001b[0m\u001b[0m\n",
      "\u001b[1;31mAttributeError\u001b[0m: 'NoneType' object has no attribute 'val'"
     ]
    }
   ],
   "source": [
    "search(a,6)"
   ]
  },
  {
   "cell_type": "code",
   "execution_count": 126,
   "metadata": {},
   "outputs": [],
   "source": [
    "def search(root, target):\n",
    "    if target > root.val :\n",
    "        return search(root.right, target)\n",
    "    if root.val > target:\n",
    "        return search(root.left, target) \n",
    "    else:\n",
    "        return root"
   ]
  },
  {
   "cell_type": "code",
   "execution_count": 127,
   "metadata": {},
   "outputs": [
    {
     "data": {
      "text/plain": [
       "<__main__.TreeNode at 0x17868213948>"
      ]
     },
     "execution_count": 127,
     "metadata": {},
     "output_type": "execute_result"
    }
   ],
   "source": [
    "search(a,6)"
   ]
  },
  {
   "cell_type": "code",
   "execution_count": 128,
   "metadata": {},
   "outputs": [],
   "source": [
    "def search(root, target):\n",
    "    if target > root.val : #當目標大於root的值\n",
    "        return search(root.right, target) #繼續往右找\n",
    "    if root.val > target: #當目標小於root的值\n",
    "        return search(root.left, target) #繼續往左找\n",
    "    else:\n",
    "        return root"
   ]
  },
  {
   "cell_type": "code",
   "execution_count": 127,
   "metadata": {},
   "outputs": [
    {
     "data": {
      "text/plain": [
       "<__main__.TreeNode at 0x17868213948>"
      ]
     },
     "execution_count": 127,
     "metadata": {},
     "output_type": "execute_result"
    }
   ],
   "source": [
    "search(a,6)"
   ]
  },
  {
   "cell_type": "markdown",
   "metadata": {},
   "source": [
    "SEARCH好像稍微簡單一點，原先把root.val<target的狀況直接放在else裡面就錯了，將它獨立出來用一個if就成功了。因為最後root.val等於targe(找到了)要 return root。"
   ]
  },
  {
   "cell_type": "markdown",
   "metadata": {},
   "source": [
    "以上是SEARCH的做法加註解。"
   ]
  },
  {
   "cell_type": "markdown",
   "metadata": {},
   "source": [
    "# DELETE"
   ]
  },
  {
   "cell_type": "markdown",
   "metadata": {},
   "source": [
    "在做DELETE之前先做了幾個工具包以便等等使用。"
   ]
  },
  {
   "cell_type": "code",
   "execution_count": 92,
   "metadata": {},
   "outputs": [],
   "source": [
    "def minval(root): \n",
    "    while root.left is not None:  \n",
    "        root = root.left \n",
    "    return root  "
   ]
  },
  {
   "cell_type": "markdown",
   "metadata": {},
   "source": [
    "以上是找最小值，就是一直往左邊找，直到root.left is None。"
   ]
  },
  {
   "cell_type": "code",
   "execution_count": 93,
   "metadata": {},
   "outputs": [],
   "source": [
    "def maxval(root): \n",
    "    while root.right is not None:  \n",
    "        root = root.right \n",
    "    return root"
   ]
  },
  {
   "cell_type": "markdown",
   "metadata": {},
   "source": [
    "以上是找最大值，就是一直往右邊找，直到root.right is None。"
   ]
  },
  {
   "cell_type": "code",
   "execution_count": 94,
   "metadata": {},
   "outputs": [],
   "source": [
    "def right_minval(root): \n",
    "    minval(root.rigt) "
   ]
  },
  {
   "cell_type": "markdown",
   "metadata": {},
   "source": [
    "以上是用來找大於自己且最靠近自己的值，就是大於自己的最小值。"
   ]
  },
  {
   "cell_type": "code",
   "execution_count": 96,
   "metadata": {},
   "outputs": [],
   "source": [
    "def left_maxval(root): \n",
    "    maxval(root.left)"
   ]
  },
  {
   "cell_type": "markdown",
   "metadata": {},
   "source": [
    "以上是用來找小於自己且最靠近自己的值，就是小於自己的最大值。"
   ]
  },
  {
   "cell_type": "markdown",
   "metadata": {},
   "source": [
    "![delete](https://i.imgur.com/WWAPa3T.jpg)"
   ]
  },
  {
   "cell_type": "markdown",
   "metadata": {},
   "source": [
    "delete的構想是，先找出要刪除的目標，如果目標比root大就往右繼續找，如果目標比root小就往左繼續找，直到找到目標為止，並刪掉該值。從目標的左邊節點找最大值，並移到被刪除的位置，若左邊節點下沒有數值，則往右邊節點找最小值，並移到被刪除的位置。"
   ]
  },
  {
   "cell_type": "code",
   "execution_count": 73,
   "metadata": {},
   "outputs": [],
   "source": [
    "def delete(root, target): \n",
    "    if root == None:  \n",
    "        return\n",
    "    if root.val > target:  \n",
    "        root.left = delete(root.left, target) \n",
    "    elif target > root.val:  \n",
    "        root.right = delete(root.right, target) \n",
    "    else: \n",
    "        if root.right != None: \n",
    "            k = root.right \n",
    "            return k \n",
    "        if root.left != None: \n",
    "            k = root.left \n",
    "            return k \n",
    "            k = left_maxval(root)  \n",
    "            root.target = k.target  \n",
    "            root.left = delete(root.left, k.target) \n",
    "    return root"
   ]
  },
  {
   "cell_type": "code",
   "execution_count": 75,
   "metadata": {},
   "outputs": [
    {
     "name": "stdout",
     "output_type": "stream",
     "text": [
      "-5\n",
      "3\n",
      "3\n",
      "5\n",
      "6\n",
      "7\n",
      "8\n",
      "10\n",
      "-----\n",
      "-5\n",
      "3\n",
      "3\n",
      "5\n",
      "6\n",
      "7\n",
      "8\n",
      "10\n"
     ]
    }
   ],
   "source": [
    "a = TreeNode(5) \n",
    "insert(a,3) \n",
    "insert(a,3) \n",
    "insert(a,8) \n",
    "insert(a,7) \n",
    "insert(a,-5) \n",
    "insert(a,10) \n",
    "insert(a,6)\n",
    "\n",
    "inorder(a)\n",
    "print(\"-----\")\n",
    "\n",
    "delete(a,10)\n",
    "\n",
    "inorder(a)"
   ]
  },
  {
   "cell_type": "markdown",
   "metadata": {},
   "source": [
    "# MODIFY"
   ]
  },
  {
   "cell_type": "markdown",
   "metadata": {},
   "source": [
    "![modify](https://i.imgur.com/PNlTFmz.jpg)"
   ]
  },
  {
   "cell_type": "code",
   "execution_count": 139,
   "metadata": {},
   "outputs": [],
   "source": [
    "def modify(root, target, new_val):\n",
    "    root = delete(root, target) #刪掉target\n",
    "    root = insert(root, new_val) #新增new_val\n",
    "    return root "
   ]
  },
  {
   "cell_type": "code",
   "execution_count": 138,
   "metadata": {},
   "outputs": [
    {
     "name": "stdout",
     "output_type": "stream",
     "text": [
      "-6\n",
      "-2\n",
      "0\n",
      "3\n",
      "3\n",
      "5\n",
      "6\n",
      "7\n",
      "7.3\n",
      "-----\n",
      "-2\n",
      "0\n",
      "3\n",
      "3\n",
      "5\n",
      "6\n",
      "7\n",
      "7.3\n",
      "13\n"
     ]
    }
   ],
   "source": [
    "a = TreeNode(5) \n",
    "insert(a,3) \n",
    "insert(a,0) \n",
    "insert(a,-6) \n",
    "insert(a,7.3) \n",
    "insert(a,-2) \n",
    "insert(a,3) \n",
    "insert(a,7) \n",
    "insert(a,6)\n",
    "\n",
    "inorder(a)\n",
    "print(\"-----\")\n",
    "\n",
    "modify(a,-6,13)\n",
    "\n",
    "inorder(a)"
   ]
  },
  {
   "cell_type": "markdown",
   "metadata": {},
   "source": [
    "我的想法很簡單，就是先刪掉再加回去就好。"
   ]
  },
  {
   "cell_type": "markdown",
   "metadata": {},
   "source": [
    "# 完整程式碼"
   ]
  },
  {
   "cell_type": "code",
   "execution_count": 54,
   "metadata": {},
   "outputs": [],
   "source": [
    "class TreeNode(object):\n",
    "    def __init__(self, x):\n",
    "        self.val = x\n",
    "        self.left = None\n",
    "        self.right = None\n",
    "        \n",
    "class Solution(object):\n",
    "    def inorder(self, root):\n",
    "        if root is None: \n",
    "            return     \n",
    "        else:\n",
    "            self.inorder(root.left) \n",
    "            print(root.val)\n",
    "            self.inorder(root.right)    \n",
    "    \n",
    "    def insert(self, root, val): \n",
    "        if root.val >= val: #當我輸入的值比根部的值小，或等於的話，就放他左邊的節點\n",
    "            if root.left != None: #當左節點不是None->左節點有放東西\n",
    "                self.insert(root.left, val) #繼續往下找空的節點\n",
    "            else: #除了以上狀況就是root.left is None\n",
    "                root.left = TreeNode(val) #把新增的值放在這個空的root.left\n",
    "        else: \n",
    "            if root.right != None: #以下是當我輸入的值比根部的值大的狀況，作法同上，只是把它放在右邊節點\n",
    "                self.insert(root.right, val) \n",
    "            else:\n",
    "                root.right = TreeNode(val)\n",
    "                \n",
    "    def search(self, root, target):\n",
    "        if target > root.val : #當目標大於root的值\n",
    "            return self.search(root.right, target) #繼續往右找\n",
    "        if root.val > target: #當目標小於root的值\n",
    "            return self.search(root.left, target) #繼續往左找\n",
    "        else:\n",
    "            return root\n",
    "                                      \n",
    "    def minval(self, root): \n",
    "        while root .left is not None:  \n",
    "            root  = root .left \n",
    "        return root  \n",
    "    \n",
    "    def maxval(self, root): \n",
    "        while root .right is not None:  \n",
    "            root  = root .right \n",
    "        return root\n",
    "    \n",
    "    def right_minval(self, root): \n",
    "        self.minval(root.rigt) \n",
    "    \n",
    "    def left_maxval(self, root): \n",
    "        self.maxval(root.left)\n",
    "\n",
    "    def delete(self, root, target): \n",
    "        #首先找尋欲刪除的目標\n",
    "        if root.val > target: \n",
    "            root.left = self.delete(root.left, target) \n",
    "        if target > root.val: \n",
    "            root.right = self.delete(root.right, target) \n",
    "        else: #以下是找到目標後的動作\n",
    "            if root.left != None:\n",
    "                k = root.left \n",
    "                return k \n",
    "                k = self.left_maxval(root)  \n",
    "                root.target = k.target  \n",
    "                root.left = self.delete(root.left, k.target) \n",
    "            else:\n",
    "                k = root.right \n",
    "                return k\n",
    "                k = self.right_minval(root)  \n",
    "                root.target = k.target  \n",
    "                root.right = self.delete(root.right, k.target) \n",
    "        return root\n",
    "    \n",
    "    def modify(self, root, target, new_val):\n",
    "        root = self.delete(root, target) #刪掉target\n",
    "        root = self.insert(root, new_val) #新增new_val \n",
    "        return root "
   ]
  },
  {
   "cell_type": "code",
   "execution_count": 55,
   "metadata": {},
   "outputs": [
    {
     "name": "stdout",
     "output_type": "stream",
     "text": [
      "-6\n",
      "-2\n",
      "0\n",
      "3\n",
      "3\n",
      "5\n",
      "6\n",
      "7\n",
      "7.3\n",
      "-----\n",
      "-6\n",
      "-2\n",
      "0\n",
      "3\n",
      "5\n",
      "6\n",
      "7\n",
      "7.3\n",
      "-----\n",
      "-2\n",
      "6\n",
      "5\n",
      "6\n",
      "7\n",
      "7.3\n"
     ]
    }
   ],
   "source": [
    "a = TreeNode(5) \n",
    "Solution().insert(a,3) \n",
    "Solution().insert(a,0) \n",
    "Solution().insert(a,-6) \n",
    "Solution().insert(a,7.3) \n",
    "Solution().insert(a,-2) \n",
    "Solution().insert(a,3) \n",
    "Solution().insert(a,7) \n",
    "Solution().insert(a,6)\n",
    "\n",
    "Solution().inorder(a)\n",
    "print(\"-----\")\n",
    "\n",
    "Solution().delete(a,3)\n",
    "\n",
    "Solution().inorder(a)\n",
    "print(\"-----\")\n",
    "\n",
    "Solution().modify(a,-6,6)\n",
    "\n",
    "Solution().inorder(a)\n"
   ]
  },
  {
   "cell_type": "markdown",
   "metadata": {},
   "source": [
    "# 參考資料"
   ]
  },
  {
   "cell_type": "markdown",
   "metadata": {},
   "source": [
    "(1)老師上課講義\n",
    "\n",
    "(2)https://www.geeksforgeeks.org/binary-search-tree-set-1-search-and-insertion/\n",
    "\n",
    "(3)https://www.geeksforgeeks.org/how-to-implement-decrease-key-or-change-key-in-binary-search-tree/\n",
    "\n",
    "以上程式碼都只有參考上述兩個網址，以及老師上課的內容，讀過之後靠自己的理解再打出來，邏輯大概相同，但完全是用自己的方法寫的。"
   ]
  }
 ],
 "metadata": {
  "kernelspec": {
   "display_name": "Python 3",
   "language": "python",
   "name": "python3"
  },
  "language_info": {
   "codemirror_mode": {
    "name": "ipython",
    "version": 3
   },
   "file_extension": ".py",
   "mimetype": "text/x-python",
   "name": "python",
   "nbconvert_exporter": "python",
   "pygments_lexer": "ipython3",
   "version": "3.7.4"
  }
 },
 "nbformat": 4,
 "nbformat_minor": 2
}
