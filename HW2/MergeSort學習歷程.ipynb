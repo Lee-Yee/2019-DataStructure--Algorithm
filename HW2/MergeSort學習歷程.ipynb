{
 "cells": [
   "cell_type": "markdown",
   "metadata": {},
   "source": [
"## 流程圖\n",
    "![](https://i.imgur.com/tgnCZgc.png)\n"
]
  },

{
 "cells": [
  {
   "cell_type": "code",
   "execution_count": 13,
   "metadata": {},
   "outputs": [
    {
     "name": "stdout",
     "output_type": "stream",
     "text": [
      "[-8, -3, 1, 3, 4, 6, 7, 9]\n"
     ]
    }
   ],
   "source": [
    "class Solution(object):\n",
    "    def merge_sort(self,mylist):\n",
    "        if len(mylist)>1:\n",
    "            mid = len(mylist)//2\n",
    "            l = mylist[:mid]\n",
    "            r = mylist[mid:]\n",
    "            self.merge_sort(l)\n",
    "            self.merge_sort(r)\n",
    "            i=0\n",
    "            j=0\n",
    "            k=0\n",
    "            while i < len(l) and j < len(r):\n",
    "                if l[i] <= r[j]:\n",
    "                    mylist[k]=l[i]\n",
    "                    i=i+1\n",
    "                else:\n",
    "                    mylist[k]=r[j]\n",
    "                    j=j+1\n",
    "                k=k+1\n",
    "\n",
    "            while i < len(l):\n",
    "                mylist[k]=l[i]\n",
    "                i=i+1\n",
    "                k=k+1\n",
    "\n",
    "            while j < len(r):\n",
    "                mylist[k]=r[j]\n",
    "                j=j+1\n",
    "                k=k+1\n",
    "\n",
    "mylist=[3,6,7,1,9,4,-8,-3]\n",
    "Solution().merge_sort(mylist)\n",
    "print(mylist)"
   ]
  }
 ],
 "metadata": {
  "kernelspec": {
   "display_name": "Python 3",
   "language": "python",
   "name": "python3"
  },
  "language_info": {
   "codemirror_mode": {
    "name": "ipython",
    "version": 3
   },
   "file_extension": ".py",
   "mimetype": "text/x-python",
   "name": "python",
   "nbconvert_exporter": "python",
   "pygments_lexer": "ipython3",
   "version": "3.7.4"
  }
 },
 "nbformat": 4,
 "nbformat_minor": 2
}
