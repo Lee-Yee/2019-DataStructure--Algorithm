{
 "cells": [
  {
   "cell_type": "code",
   "execution_count": 41,
   "metadata": {},
   "outputs": [
    {
     "name": "stdout",
     "output_type": "stream",
     "text": [
      "[1, -8, -3, 9, 4, 6, 7, 3]\n"
     ]
    }
   ],
   
   "source": [
    "![heapsort流程圖](https://imgur.com/MBUNWwc)"
    "##參考老師的PPT後，嘗試自己寫看看\n",
    "\n",
    "#首先我定義了一個交換的函式，以便之後排版可以簡單一點     \n",
    "def swap(i,j):               \n",
    "    mylist[i],mylist[j]=mylist[j],mylist[i] \n",
    "            \n",
    "def heapify(n,i):   \n",
    "    c1=2*i+1#小孩一號  \n",
    "    c2=2*i+2#小孩二號   \n",
    "    if mylist[i]<mylist[c1]:#i式家長的值，若小孩一號比家長大   \n",
    "        swap(i,c1)#則交換他們  \n",
    "    if mylist[i]<mylist[c2]:#若小孩二號比家長大     \n",
    "        swap(i,c2)#則交換他們 \n",
    "\n",
    "def heap_sort():     \n",
    "    for i in range(len(mylist)-1,0,-1):#由後往前排列   \n",
    "        swap(i,0)   \n",
    "        heapify(i,0)  \n",
    "\n",
    "mylist=[3,6,7,1,9,4,-8,-3]\n",
    "heap_sort()\n",
    "print(mylist)"
   ]
  },
  {
   "cell_type": "code",
   "execution_count": 35,
   "metadata": {},
   "outputs": [],
   "source": [
    "##直接交換的話，i好像會亂跳(?)所以不能直接換"
   ]
  },
  {
   "cell_type": "code",
   "execution_count": 36,
   "metadata": {},
   "outputs": [
    {
     "ename": "IndexError",
     "evalue": "list index out of range",
     "output_type": "error",
     "traceback": [
      "\u001b[1;31m---------------------------------------------------------------------------\u001b[0m",
      "\u001b[1;31mIndexError\u001b[0m                                Traceback (most recent call last)",
      "\u001b[1;32m<ipython-input-36-b5c6390ac404>\u001b[0m in \u001b[0;36m<module>\u001b[1;34m\u001b[0m\n\u001b[0;32m     22\u001b[0m \u001b[1;33m\u001b[0m\u001b[0m\n\u001b[0;32m     23\u001b[0m \u001b[0mmylist\u001b[0m\u001b[1;33m=\u001b[0m\u001b[1;33m[\u001b[0m\u001b[1;36m3\u001b[0m\u001b[1;33m,\u001b[0m\u001b[1;36m6\u001b[0m\u001b[1;33m,\u001b[0m\u001b[1;36m7\u001b[0m\u001b[1;33m,\u001b[0m\u001b[1;36m1\u001b[0m\u001b[1;33m,\u001b[0m\u001b[1;36m9\u001b[0m\u001b[1;33m,\u001b[0m\u001b[1;36m4\u001b[0m\u001b[1;33m,\u001b[0m\u001b[1;33m-\u001b[0m\u001b[1;36m8\u001b[0m\u001b[1;33m,\u001b[0m\u001b[1;33m-\u001b[0m\u001b[1;36m3\u001b[0m\u001b[1;33m]\u001b[0m\u001b[1;33m\u001b[0m\u001b[1;33m\u001b[0m\u001b[0m\n\u001b[1;32m---> 24\u001b[1;33m \u001b[0mheap_sort\u001b[0m\u001b[1;33m(\u001b[0m\u001b[1;33m)\u001b[0m\u001b[1;33m\u001b[0m\u001b[1;33m\u001b[0m\u001b[0m\n\u001b[0m\u001b[0;32m     25\u001b[0m \u001b[0mprint\u001b[0m\u001b[1;33m(\u001b[0m\u001b[0mmylist\u001b[0m\u001b[1;33m)\u001b[0m\u001b[1;33m\u001b[0m\u001b[1;33m\u001b[0m\u001b[0m\n",
      "\u001b[1;32m<ipython-input-36-b5c6390ac404>\u001b[0m in \u001b[0;36mheap_sort\u001b[1;34m()\u001b[0m\n\u001b[0;32m     18\u001b[0m     \u001b[1;32mfor\u001b[0m \u001b[0mi\u001b[0m \u001b[1;32min\u001b[0m \u001b[0mrange\u001b[0m\u001b[1;33m(\u001b[0m\u001b[0mlen\u001b[0m\u001b[1;33m(\u001b[0m\u001b[0mmylist\u001b[0m\u001b[1;33m)\u001b[0m\u001b[1;33m-\u001b[0m\u001b[1;36m1\u001b[0m\u001b[1;33m,\u001b[0m\u001b[1;36m0\u001b[0m\u001b[1;33m,\u001b[0m\u001b[1;33m-\u001b[0m\u001b[1;36m1\u001b[0m\u001b[1;33m)\u001b[0m\u001b[1;33m:\u001b[0m\u001b[1;33m\u001b[0m\u001b[1;33m\u001b[0m\u001b[0m\n\u001b[0;32m     19\u001b[0m         \u001b[0mswap\u001b[0m\u001b[1;33m(\u001b[0m\u001b[0mi\u001b[0m\u001b[1;33m,\u001b[0m\u001b[1;36m0\u001b[0m\u001b[1;33m)\u001b[0m\u001b[1;33m\u001b[0m\u001b[1;33m\u001b[0m\u001b[0m\n\u001b[1;32m---> 20\u001b[1;33m         \u001b[0mheapify\u001b[0m\u001b[1;33m(\u001b[0m\u001b[0mi\u001b[0m\u001b[1;33m,\u001b[0m\u001b[1;36m0\u001b[0m\u001b[1;33m)\u001b[0m\u001b[1;33m\u001b[0m\u001b[1;33m\u001b[0m\u001b[0m\n\u001b[0m\u001b[0;32m     21\u001b[0m \u001b[1;33m\u001b[0m\u001b[0m\n\u001b[0;32m     22\u001b[0m \u001b[1;33m\u001b[0m\u001b[0m\n",
      "\u001b[1;32m<ipython-input-36-b5c6390ac404>\u001b[0m in \u001b[0;36mheapify\u001b[1;34m(n, i)\u001b[0m\n\u001b[0;32m      9\u001b[0m         \u001b[0mpa\u001b[0m\u001b[1;33m=\u001b[0m\u001b[0mc1\u001b[0m\u001b[1;33m\u001b[0m\u001b[1;33m\u001b[0m\u001b[0m\n\u001b[0;32m     10\u001b[0m         \u001b[0mswap\u001b[0m\u001b[1;33m(\u001b[0m\u001b[0mi\u001b[0m\u001b[1;33m,\u001b[0m\u001b[0mpa\u001b[0m\u001b[1;33m)\u001b[0m\u001b[1;31m#家長換小孩當\u001b[0m\u001b[1;33m\u001b[0m\u001b[1;33m\u001b[0m\u001b[0m\n\u001b[1;32m---> 11\u001b[1;33m         \u001b[0mheapify\u001b[0m\u001b[1;33m(\u001b[0m\u001b[0mn\u001b[0m\u001b[1;33m,\u001b[0m\u001b[0mpa\u001b[0m\u001b[1;33m)\u001b[0m\u001b[1;33m\u001b[0m\u001b[1;33m\u001b[0m\u001b[0m\n\u001b[0m\u001b[0;32m     12\u001b[0m     \u001b[1;32mif\u001b[0m \u001b[0mmylist\u001b[0m\u001b[1;33m[\u001b[0m\u001b[0mpa\u001b[0m\u001b[1;33m]\u001b[0m\u001b[1;33m<\u001b[0m\u001b[0mmylist\u001b[0m\u001b[1;33m[\u001b[0m\u001b[0mc2\u001b[0m\u001b[1;33m]\u001b[0m\u001b[1;33m:\u001b[0m\u001b[1;33m\u001b[0m\u001b[1;33m\u001b[0m\u001b[0m\n\u001b[0;32m     13\u001b[0m         \u001b[0mpa\u001b[0m\u001b[1;33m=\u001b[0m\u001b[0mc2\u001b[0m\u001b[1;33m\u001b[0m\u001b[1;33m\u001b[0m\u001b[0m\n",
      "\u001b[1;32m<ipython-input-36-b5c6390ac404>\u001b[0m in \u001b[0;36mheapify\u001b[1;34m(n, i)\u001b[0m\n\u001b[0;32m      9\u001b[0m         \u001b[0mpa\u001b[0m\u001b[1;33m=\u001b[0m\u001b[0mc1\u001b[0m\u001b[1;33m\u001b[0m\u001b[1;33m\u001b[0m\u001b[0m\n\u001b[0;32m     10\u001b[0m         \u001b[0mswap\u001b[0m\u001b[1;33m(\u001b[0m\u001b[0mi\u001b[0m\u001b[1;33m,\u001b[0m\u001b[0mpa\u001b[0m\u001b[1;33m)\u001b[0m\u001b[1;31m#家長換小孩當\u001b[0m\u001b[1;33m\u001b[0m\u001b[1;33m\u001b[0m\u001b[0m\n\u001b[1;32m---> 11\u001b[1;33m         \u001b[0mheapify\u001b[0m\u001b[1;33m(\u001b[0m\u001b[0mn\u001b[0m\u001b[1;33m,\u001b[0m\u001b[0mpa\u001b[0m\u001b[1;33m)\u001b[0m\u001b[1;33m\u001b[0m\u001b[1;33m\u001b[0m\u001b[0m\n\u001b[0m\u001b[0;32m     12\u001b[0m     \u001b[1;32mif\u001b[0m \u001b[0mmylist\u001b[0m\u001b[1;33m[\u001b[0m\u001b[0mpa\u001b[0m\u001b[1;33m]\u001b[0m\u001b[1;33m<\u001b[0m\u001b[0mmylist\u001b[0m\u001b[1;33m[\u001b[0m\u001b[0mc2\u001b[0m\u001b[1;33m]\u001b[0m\u001b[1;33m:\u001b[0m\u001b[1;33m\u001b[0m\u001b[1;33m\u001b[0m\u001b[0m\n\u001b[0;32m     13\u001b[0m         \u001b[0mpa\u001b[0m\u001b[1;33m=\u001b[0m\u001b[0mc2\u001b[0m\u001b[1;33m\u001b[0m\u001b[1;33m\u001b[0m\u001b[0m\n",
      "\u001b[1;32m<ipython-input-36-b5c6390ac404>\u001b[0m in \u001b[0;36mheapify\u001b[1;34m(n, i)\u001b[0m\n\u001b[0;32m      9\u001b[0m         \u001b[0mpa\u001b[0m\u001b[1;33m=\u001b[0m\u001b[0mc1\u001b[0m\u001b[1;33m\u001b[0m\u001b[1;33m\u001b[0m\u001b[0m\n\u001b[0;32m     10\u001b[0m         \u001b[0mswap\u001b[0m\u001b[1;33m(\u001b[0m\u001b[0mi\u001b[0m\u001b[1;33m,\u001b[0m\u001b[0mpa\u001b[0m\u001b[1;33m)\u001b[0m\u001b[1;31m#家長換小孩當\u001b[0m\u001b[1;33m\u001b[0m\u001b[1;33m\u001b[0m\u001b[0m\n\u001b[1;32m---> 11\u001b[1;33m         \u001b[0mheapify\u001b[0m\u001b[1;33m(\u001b[0m\u001b[0mn\u001b[0m\u001b[1;33m,\u001b[0m\u001b[0mpa\u001b[0m\u001b[1;33m)\u001b[0m\u001b[1;33m\u001b[0m\u001b[1;33m\u001b[0m\u001b[0m\n\u001b[0m\u001b[0;32m     12\u001b[0m     \u001b[1;32mif\u001b[0m \u001b[0mmylist\u001b[0m\u001b[1;33m[\u001b[0m\u001b[0mpa\u001b[0m\u001b[1;33m]\u001b[0m\u001b[1;33m<\u001b[0m\u001b[0mmylist\u001b[0m\u001b[1;33m[\u001b[0m\u001b[0mc2\u001b[0m\u001b[1;33m]\u001b[0m\u001b[1;33m:\u001b[0m\u001b[1;33m\u001b[0m\u001b[1;33m\u001b[0m\u001b[0m\n\u001b[0;32m     13\u001b[0m         \u001b[0mpa\u001b[0m\u001b[1;33m=\u001b[0m\u001b[0mc2\u001b[0m\u001b[1;33m\u001b[0m\u001b[1;33m\u001b[0m\u001b[0m\n",
      "\u001b[1;32m<ipython-input-36-b5c6390ac404>\u001b[0m in \u001b[0;36mheapify\u001b[1;34m(n, i)\u001b[0m\n\u001b[0;32m      6\u001b[0m     \u001b[0mc2\u001b[0m\u001b[1;33m=\u001b[0m\u001b[1;36m2\u001b[0m\u001b[1;33m*\u001b[0m\u001b[0mi\u001b[0m\u001b[1;33m+\u001b[0m\u001b[1;36m2\u001b[0m\u001b[1;33m\u001b[0m\u001b[1;33m\u001b[0m\u001b[0m\n\u001b[0;32m      7\u001b[0m     \u001b[0mpa\u001b[0m\u001b[1;33m=\u001b[0m\u001b[0mi\u001b[0m\u001b[1;31m#新增一個家長\u001b[0m\u001b[1;33m\u001b[0m\u001b[1;33m\u001b[0m\u001b[0m\n\u001b[1;32m----> 8\u001b[1;33m     \u001b[1;32mif\u001b[0m \u001b[0mmylist\u001b[0m\u001b[1;33m[\u001b[0m\u001b[0mi\u001b[0m\u001b[1;33m]\u001b[0m\u001b[1;33m<\u001b[0m\u001b[0mmylist\u001b[0m\u001b[1;33m[\u001b[0m\u001b[0mc1\u001b[0m\u001b[1;33m]\u001b[0m\u001b[1;33m:\u001b[0m \u001b[1;31m#當家長小於小孩\u001b[0m\u001b[1;33m\u001b[0m\u001b[1;33m\u001b[0m\u001b[0m\n\u001b[0m\u001b[0;32m      9\u001b[0m         \u001b[0mpa\u001b[0m\u001b[1;33m=\u001b[0m\u001b[0mc1\u001b[0m\u001b[1;33m\u001b[0m\u001b[1;33m\u001b[0m\u001b[0m\n\u001b[0;32m     10\u001b[0m         \u001b[0mswap\u001b[0m\u001b[1;33m(\u001b[0m\u001b[0mi\u001b[0m\u001b[1;33m,\u001b[0m\u001b[0mpa\u001b[0m\u001b[1;33m)\u001b[0m\u001b[1;31m#家長換小孩當\u001b[0m\u001b[1;33m\u001b[0m\u001b[1;33m\u001b[0m\u001b[0m\n",
      "\u001b[1;31mIndexError\u001b[0m: list index out of range"
     ]
    }
   ],
   "source": [
    "def swap(i,j):                    \n",
    "    mylist[i],mylist[j]=mylist[j],mylist[i] \n",
    "\n",
    "def heapify(n,i):   \n",
    "    c1=2*i+1  \n",
    "    c2=2*i+2   \n",
    "    pa=i#新增一個家長  \n",
    "    if mylist[i]<mylist[c1]: #當家長小於小孩  \n",
    "        pa=c1\n",
    "        swap(i,pa)#家長換小孩當   \n",
    "        heapify(n,pa) \n",
    "    if mylist[pa]<mylist[c2]:   \n",
    "        pa=c2\n",
    "        swap(i,pa)   \n",
    "        heapify(n,pa) \n",
    "        \n",
    "def heap_sort():        \n",
    "    for i in range(len(mylist)-1,0,-1):   \n",
    "        swap(i,0)   \n",
    "        heapify(i,0)   \n",
    "        \n",
    "\n",
    "mylist=[3,6,7,1,9,4,-8,-3]\n",
    "heap_sort()\n",
    "print(mylist)"
   ]
  },
  {
   "cell_type": "code",
   "execution_count": 37,
   "metadata": {},
   "outputs": [],
   "source": [
    "##還是失敗，想了好久"
   ]
  },
  {
   "cell_type": "code",
   "execution_count": 38,
   "metadata": {},
   "outputs": [
    {
     "name": "stdout",
     "output_type": "stream",
     "text": [
      "[-8, -3, 1, 3, 4, 6, 9, 7]\n"
     ]
    }
   ],
   "source": [
    "def swap(i,j):                    \n",
    "    mylist[i],mylist[j]=mylist[j],mylist[i] \n",
    "        \n",
    "def heapify(n,i):   \n",
    "    c1=2*i+1  \n",
    "    c2=2*i+2   \n",
    "    pa=i   \n",
    "    if c1<n and mylist[i]<mylist[c1]: ##增加了位置的限制  \n",
    "        pa=c1\n",
    "        swap(i,pa)\n",
    "        heapify(n,pa)\n",
    "    if c2<n and mylist[pa]<mylist[c2]:   \n",
    "        pa=c2\n",
    "        swap(i,pa)\n",
    "        heapify(n,pa) \n",
    "        \n",
    "def heap_sort():     \n",
    "    for i in range(len(mylist)//2,-1,-1):   \n",
    "        heapify(len(mylist),i)   \n",
    "    for i in range(len(mylist)-1,0,-1):   \n",
    "        swap(i,0)   \n",
    "        heapify(i,0)  \n",
    "        \n",
    "mylist=[3,6,7,1,9,4,-8,-3]\n",
    "heap_sort()\n",
    "print(mylist)"
   ]
  },
  {
   "cell_type": "code",
   "execution_count": 39,
   "metadata": {},
   "outputs": [
    {
     "name": "stdout",
     "output_type": "stream",
     "text": [
      "None\n"
     ]
    }
   ],
   "source": [
    "class Solution(object):\n",
    "    def swap(i,j):                    \n",
    "        mylist[i],mylist[j]=mylist[j],mylist[i] \n",
    "        \n",
    "    def heap_sort(self,mylist):     \n",
    "        for i in range(len(mylist)//2,-1,-1):   \n",
    "            Solution.heapify(len(mylist),i)   \n",
    "        for i in range(len(mylist)-1,0,-1):   \n",
    "            Solution.swap(i,0)   \n",
    "            Solution.heapify(i,0)\n",
    "\n",
    "    def heapify(n,i):   \n",
    "        c1=2*i+1  \n",
    "        c2=2*i+2   \n",
    "        pa=i   \n",
    "        if c1<n and mylist[i]<mylist[c1]:   \n",
    "            pa=c1  \n",
    "        if c2<n and mylist[pa]<mylist[c2]:   \n",
    "            pa=c2   \n",
    "        if pa!=i:   \n",
    "            Solution.swap(i,pa)   \n",
    "            Solution.heapify(n,pa)   \n",
    "            \n",
    "mylist=[3,6,7,1,9,4,-8,-3]\n",
    "a=Solution().heap_sort(mylist)\n",
    "print(a)"
   ]
  },
  {
   "cell_type": "code",
   "execution_count": 40,
   "metadata": {},
   "outputs": [],
   "source": [
    "class Solution(object):\n",
    "    def swap(self,i,j):                    \n",
    "        mylist[i],mylist[j]=mylist[j],mylist[i] \n",
    "\n",
    "\n",
    "    def heap_sort(self,mylist):     \n",
    "        for i in range(len(mylist)//2,-1,-1):   \n",
    "            self.heapify(len(mylist),i)   \n",
    "        for i in range(len(mylist)-1,0,-1):   \n",
    "            self.swap(i,0)   \n",
    "            self.heapify(i,0) \n",
    "            \n",
    "    def heapify(self,n,i):   \n",
    "        c1=2*i+1  \n",
    "        c2=2*i+2   \n",
    "        pa=i   \n",
    "        if c1<n and mylist[i]<mylist[c1]:   \n",
    "            pa=c1  \n",
    "        if c2<n and mylist[pa]<mylist[c2]:   \n",
    "            pa=c2   \n",
    "        if pa!=i:   \n",
    "            self.swap(i,pa)   \n",
    "            self.heapify(n,pa)   "
   ]
  },
  {
   "cell_type": "code",
   "execution_count": 33,
   "metadata": {},
   "outputs": [
    {
     "name": "stdout",
     "output_type": "stream",
     "text": [
      "None\n"
     ]
    }
   ],
   "source": [
    "mylist=[3,6,7,1,9,4,-8,-3]\n",
    "a=Solution().heap_sort(mylist)\n",
    "print(a)"
   ]
  },
  {
   "cell_type": "code",
   "execution_count": null,
   "metadata": {},
   "outputs": [],
   "source": [
    "##目前還找不到原因，繼續努力"
   ]
  }
 ],
 "metadata": {
  "kernelspec": {
   "display_name": "Python 3",
   "language": "python",
   "name": "python3"
  },
  "language_info": {
   "codemirror_mode": {
    "name": "ipython",
    "version": 3
   },
   "file_extension": ".py",
   "mimetype": "text/x-python",
   "name": "python",
   "nbconvert_exporter": "python",
   "pygments_lexer": "ipython3",
   "version": "3.7.4"
  }
 },
 "nbformat": 4,
 "nbformat_minor": 2
}
