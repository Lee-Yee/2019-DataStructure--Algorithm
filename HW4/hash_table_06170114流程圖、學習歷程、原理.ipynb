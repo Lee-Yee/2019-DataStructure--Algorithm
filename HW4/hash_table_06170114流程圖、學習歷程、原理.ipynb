{
 "cells": [
  {
   "cell_type": "markdown",
   "metadata": {},
   "source": [
    "# 流程圖"
   ]
  },
  {
   "cell_type": "markdown",
   "metadata": {},
   "source": [
    "![hash](https://i.imgur.com/ekTLu0G.jpg)"
   ]
  },
  {
   "cell_type": "markdown",
   "metadata": {},
   "source": [
    "## 前言"
   ]
  },
  {
   "cell_type": "markdown",
   "metadata": {},
   "source": [
    "我們先來想像一個情境，現在有一個名子，你不確定他是否為東吳大學的學生，所以我們要從東吳大學的學生資料庫裏面，一個一個看是否有這個人，時間複雜度是O(N)，要是資料很多筆，那鐵定是個天大的災難。所以當我們在查詢資料的時候，用上一個作業的Binary Search Tree的話，只需要時O(logN)的間複雜度，與O(N)相比實在好上太多了，但是如果有時間複雜度是O(1)就能完成查詢的話，那不就太完美了！剛好Hash Table就能這麼厲害！只要時間複雜度O(1)就好！以下就是Hash Table的概念。"
   ]
  },
  {
   "cell_type": "markdown",
   "metadata": {},
   "source": [
    "# Hash Table的概念"
   ]
  },
  {
   "cell_type": "markdown",
   "metadata": {},
   "source": [
    "Hash Table(雜湊表)跟List的最大差異是就是它不是線性的搜尋，Hash Table是將所有要放入的資料先用Hash Function算出一個值後，依照這個算出來的值放到相對應的位置去。我們可以想像這個對應的位置是一個一個的抽屜，例如：\"pig\"經過Hash Function後出來的值為3，我們就把它放到3號抽屜裡。\n",
    "\n",
    "所以當我們要搜尋是否有\"pig\"的時候，也是先\"pig\"經過Hash Function得知他放在3號抽屜，所以我們從3號抽屜中找出他就好。Hash Table的優點就是我不用從第一個資料開始看，一筆一筆的往下找，找到不知道民國幾百年，我們只要先將它經過Hash Function後就知道要去哪裡找了。\n",
    "\n",
    "但是有一個問題就是每個抽屜裡一定有很多筆資料呀，因為經過Hash Function後\"pig\"和\"dog\"可能都放在3號抽屜裡面，那怎麼辦呢？這種狀況叫Collision(碰撞)，這時候可以搭配之前學過的Linked list，把放在同一個抽屜的資料用Linked list串起來。"
   ]
  },
  {
   "cell_type": "markdown",
   "metadata": {},
   "source": [
    "# Hash Function的概念"
   ]
  },
  {
   "cell_type": "markdown",
   "metadata": {},
   "source": [
    "剛剛Hash Table中有提到Hash Function，所以在這裡說明一下Hash Function是什麼。簡單來說Hash Function(雜湊函式)是一種將輸入值轉換成另一個值域的技術。我們可以想像Hash Function就是一台轉換器，輸入一個Key進去就會輸出另一個值出來，而輸出的值可以方便我們進行分配。所以Hash Function設定其實很重要，要讓盡可能讓這個Key在經過Hash Function後，在輸出的值域裡也能能夠平均分佈，盡量避免Collision(碰撞)。另外，Hash Function是單向的，具有不可逆的特性。\n",
    "以下的作業就是先經由MD5加密後，變成十六進位，將十六進位轉換成十進位，再取它的餘數。"
   ]
  },
  {
   "cell_type": "markdown",
   "metadata": {},
   "source": [
    "# 學習歷程"
   ]
  },
  {
   "cell_type": "code",
   "execution_count": 21,
   "metadata": {},
   "outputs": [],
   "source": [
    "from Crypto.Hash import MD5"
   ]
  },
  {
   "cell_type": "code",
   "execution_count": 22,
   "metadata": {},
   "outputs": [],
   "source": [
    "class ListNode:\n",
    "    def __init__(self, val):\n",
    "        self.val = val\n",
    "        self.next = None"
   ]
  },
  {
   "cell_type": "markdown",
   "metadata": {},
   "source": [
    "先經由MD5加密"
   ]
  },
  {
   "cell_type": "code",
   "execution_count": 48,
   "metadata": {},
   "outputs": [
    {
     "name": "stdout",
     "output_type": "stream",
     "text": [
      "None\n"
     ]
    }
   ],
   "source": [
    "class MyHashSet:\n",
    "    def __init__(self, capacity=5):\n",
    "        self.capacity = capacity\n",
    "        self.data = [None] * capacity\n",
    "    \n",
    "def key1(key):\n",
    "    h = MD5.new()\n",
    "    h.update(key.encode(\"utf-8\"))\n",
    "    key1 = int(h.hexdigest(),16) \n",
    "\n",
    "print(key1(\"pig\"))"
   ]
  },
  {
   "cell_type": "markdown",
   "metadata": {},
   "source": [
    "奇怪！我是照著PPT上做的，卻失敗了，後來才知道要return。"
   ]
  },
  {
   "cell_type": "code",
   "execution_count": 56,
   "metadata": {},
   "outputs": [
    {
     "name": "stdout",
     "output_type": "stream",
     "text": [
      "328716098820163891201703637637140404312\n"
     ]
    }
   ],
   "source": [
    "class MyHashSet:\n",
    "    def __init__(self, capacity=5):\n",
    "        self.capacity = capacity\n",
    "        self.data = [None] * capacity\n",
    "    \n",
    "def key1(key):\n",
    "    h = MD5.new()\n",
    "    h.update(key.encode(\"utf-8\"))\n",
    "    key1 = int(h.hexdigest(),16) \n",
    "    return key1\n",
    "\n",
    "print(key1(\"pig\"))"
   ]
  },
  {
   "cell_type": "markdown",
   "metadata": {},
   "source": [
    "Hash Function取餘數找到他該去的抽屜"
   ]
  },
  {
   "cell_type": "code",
   "execution_count": 51,
   "metadata": {},
   "outputs": [],
   "source": [
    "def index(key1):\n",
    "    index = key1 % MyHashSet.capacity\n",
    "    return index"
   ]
  },
  {
   "cell_type": "markdown",
   "metadata": {},
   "source": [
    "## 新增"
   ]
  },
  {
   "cell_type": "markdown",
   "metadata": {},
   "source": [
    "新增的概念就是先將Key轉換成index，如果該index中沒有東西，很簡單就直接放進去。但要是有東西的就使用Linked list，例如\"pig\"的index是3，而index=3裡已經有\"dog\"，就看\"dog\"的節點後有沒有其東西，有的話繼續往後找，沒有的話它的next就是\"pig\"。"
   ]
  },
  {
   "cell_type": "code",
   "execution_count": 75,
   "metadata": {},
   "outputs": [],
   "source": [
    "class MyHashSet:\n",
    "    def __init__(self, capacity=5):\n",
    "        self.capacity = capacity\n",
    "        self.data = [None] * capacity\n",
    "    \n",
    "def key1(key):\n",
    "    h = MD5.new()\n",
    "    h.update(key.encode(\"utf-8\"))\n",
    "    key1 = int(h.hexdigest(),16) \n",
    "    return key1\n",
    "\n",
    "def add(key):\n",
    "    key1 = key1(key) #加密\n",
    "    index = key1 % self.capacity #Hash Function找抽屜\n",
    "    if data[index] != None: #如果定的抽屜已經有東西了\n",
    "        head = data[index]            \n",
    "        while head.next == None: #當抽屜裡的東西甲後的節點已經沒東西了              \n",
    "            head.next = ListNode(key1) #就放在東西甲後\n",
    "        head = head.next \n",
    "    else:\n",
    "        data[index] = ListNode(key1) #對應的抽屜沒東西就直接放進去  "
   ]
  },
  {
   "cell_type": "code",
   "execution_count": 77,
   "metadata": {},
   "outputs": [
    {
     "ename": "UnboundLocalError",
     "evalue": "local variable 'key1' referenced before assignment",
     "output_type": "error",
     "traceback": [
      "\u001b[1;31m---------------------------------------------------------------------------\u001b[0m",
      "\u001b[1;31mUnboundLocalError\u001b[0m                         Traceback (most recent call last)",
      "\u001b[1;32m<ipython-input-77-c94206958b89>\u001b[0m in \u001b[0;36m<module>\u001b[1;34m\u001b[0m\n\u001b[0;32m      1\u001b[0m \u001b[0mkey1\u001b[0m\u001b[1;33m(\u001b[0m\u001b[1;34m\"pig\"\u001b[0m\u001b[1;33m)\u001b[0m\u001b[1;33m\u001b[0m\u001b[1;33m\u001b[0m\u001b[0m\n\u001b[1;32m----> 2\u001b[1;33m \u001b[0madd\u001b[0m\u001b[1;33m(\u001b[0m\u001b[1;34m\"pig\"\u001b[0m\u001b[1;33m)\u001b[0m\u001b[1;33m\u001b[0m\u001b[1;33m\u001b[0m\u001b[0m\n\u001b[0m",
      "\u001b[1;32m<ipython-input-75-ad0c3ca6d18b>\u001b[0m in \u001b[0;36madd\u001b[1;34m(key)\u001b[0m\n\u001b[0;32m     11\u001b[0m \u001b[1;33m\u001b[0m\u001b[0m\n\u001b[0;32m     12\u001b[0m \u001b[1;32mdef\u001b[0m \u001b[0madd\u001b[0m\u001b[1;33m(\u001b[0m\u001b[0mkey\u001b[0m\u001b[1;33m)\u001b[0m\u001b[1;33m:\u001b[0m\u001b[1;33m\u001b[0m\u001b[1;33m\u001b[0m\u001b[0m\n\u001b[1;32m---> 13\u001b[1;33m     \u001b[0mkey1\u001b[0m \u001b[1;33m=\u001b[0m \u001b[0mkey1\u001b[0m\u001b[1;33m(\u001b[0m\u001b[0mkey\u001b[0m\u001b[1;33m)\u001b[0m \u001b[1;31m#加密\u001b[0m\u001b[1;33m\u001b[0m\u001b[1;33m\u001b[0m\u001b[0m\n\u001b[0m\u001b[0;32m     14\u001b[0m     \u001b[0mindex\u001b[0m \u001b[1;33m=\u001b[0m \u001b[0mkey1\u001b[0m \u001b[1;33m%\u001b[0m \u001b[0mself\u001b[0m\u001b[1;33m.\u001b[0m\u001b[0mcapacity\u001b[0m \u001b[1;31m#Hash Function找抽屜\u001b[0m\u001b[1;33m\u001b[0m\u001b[1;33m\u001b[0m\u001b[0m\n\u001b[0;32m     15\u001b[0m     \u001b[1;32mif\u001b[0m \u001b[0mdata\u001b[0m\u001b[1;33m[\u001b[0m\u001b[0mindex\u001b[0m\u001b[1;33m]\u001b[0m \u001b[1;33m!=\u001b[0m \u001b[1;32mNone\u001b[0m\u001b[1;33m:\u001b[0m \u001b[1;31m#如果定的抽屜已經有東西了\u001b[0m\u001b[1;33m\u001b[0m\u001b[1;33m\u001b[0m\u001b[0m\n",
      "\u001b[1;31mUnboundLocalError\u001b[0m: local variable 'key1' referenced before assignment"
     ]
    }
   ],
   "source": [
    "key1(\"pig\")\n",
    "add(\"pig\")"
   ]
  },
  {
   "cell_type": "code",
   "execution_count": 87,
   "metadata": {},
   "outputs": [],
   "source": [
    "class MyHashSet:\n",
    "    def __init__(self, capacity=5):\n",
    "        self.capacity = capacity\n",
    "        self.data = [None] * capacity\n",
    "        \n",
    "    def key1(self, key):\n",
    "        h = MD5.new()\n",
    "        h.update(key.encode(\"utf-8\"))\n",
    "        key1 = int(h.hexdigest(),16)\n",
    "        return key1\n",
    "        \n",
    "    def add(self, key):\n",
    "        key1 = self.key1(key) #加密\n",
    "        index = key1 % self.capacity #Hash Function找抽屜\n",
    "        if self.data[index] != None:#如果定的抽屜已經有東西了\n",
    "            h = self.data[index]            \n",
    "            while h.next == None: #當抽屜裡的東西甲後的節點已經沒東西了                \n",
    "                h.next = ListNode(key1) #就放在東西甲後\n",
    "            h = h.next #當抽屜裡的東西甲後的節點有東西，就繼續往後面 \n",
    "        else:\n",
    "            self.data[index] = ListNode(key1) #對應的抽屜沒東西就直接放進去        "
   ]
  },
  {
   "cell_type": "code",
   "execution_count": 88,
   "metadata": {},
   "outputs": [],
   "source": [
    "hashSet = MyHashSet()\n",
    "hashSet.add('pig')\n",
    "hashSet.add('pig')\n",
    "hashSet.add('dog')"
   ]
  },
  {
   "cell_type": "markdown",
   "metadata": {},
   "source": [
    "## 包含"
   ]
  },
  {
   "cell_type": "code",
   "execution_count": 104,
   "metadata": {},
   "outputs": [],
   "source": [
    "class MyHashSet:\n",
    "    def __init__(self, capacity=5):\n",
    "        self.capacity = capacity\n",
    "        self.data = [None] * capacity\n",
    "        \n",
    "    def key1(self, key):\n",
    "        h = MD5.new()\n",
    "        h.update(key.encode(\"utf-8\"))\n",
    "        key1 = int(h.hexdigest(),16)\n",
    "        return key1\n",
    "        \n",
    "    def add(self, key):\n",
    "        key1 = self.key1(key) #加密\n",
    "        index = key1 % self.capacity #Hash Function找抽屜\n",
    "        if self.data[index] != None:#如果定的抽屜已經有東西了\n",
    "            h = self.data[index]            \n",
    "            while h.next == None: #當抽屜裡的東西甲後的節點已經沒東西了                \n",
    "                h.next = ListNode(key1) #就放在東西甲後\n",
    "            h = h.next #當抽屜裡的東西甲後的節點有東西，就繼續往後面 \n",
    "        else:\n",
    "            self.data[index] = ListNode(key1) #對應的抽屜沒東西就直接放進去\n",
    "        \n",
    "    def contains(self, key):\n",
    "        key1 = self.key1(key)\n",
    "        index = key1 % self.capacity\n",
    "        if self.data[index] == None: #沒有這個東西就False\n",
    "                return False\n",
    "        else:\n",
    "            return True #有這個東西就True"
   ]
  },
  {
   "cell_type": "code",
   "execution_count": 102,
   "metadata": {},
   "outputs": [
    {
     "name": "stdout",
     "output_type": "stream",
     "text": [
      "True\n",
      "True\n",
      "True\n",
      "False\n"
     ]
    }
   ],
   "source": [
    "hashSet = MyHashSet()\n",
    "hashSet.add('pig')\n",
    "hashSet.add('dog')\n",
    "rel = hashSet.contains('pig')\n",
    "print(rel)\n",
    "rel = hashSet.contains('dog')\n",
    "print(rel)\n",
    "rel = hashSet.contains('cat')\n",
    "print(rel)\n",
    "rel = hashSet.contains('bird')\n",
    "print(rel)"
   ]
  },
  {
   "cell_type": "code",
   "execution_count": 103,
   "metadata": {},
   "outputs": [
    {
     "name": "stdout",
     "output_type": "stream",
     "text": [
      "True\n",
      "False\n",
      "True\n",
      "False\n"
     ]
    }
   ],
   "source": [
    "hashSet = MyHashSet()\n",
    "hashSet.add('pig')\n",
    "rel = hashSet.contains('pig')\n",
    "print(rel)\n",
    "rel = hashSet.contains('dog')\n",
    "print(rel)\n",
    "rel = hashSet.contains('cat')\n",
    "print(rel)\n",
    "rel = hashSet.contains('bird')\n",
    "print(rel)"
   ]
  },
  {
   "cell_type": "markdown",
   "metadata": {},
   "source": [
    "啊！錯了!好像想得太簡單了，要是這個Key真的存在的話好像沒問題，一定會是True。但是這個Key不存在的話，像是上面的cat，竟然出現True，我想cat的index和pig是一樣的，所以只單看self.data[index]是不是None是錯的。應該要看裡面的value。"
   ]
  },
  {
   "cell_type": "code",
   "execution_count": 171,
   "metadata": {},
   "outputs": [
    {
     "name": "stdout",
     "output_type": "stream",
     "text": [
      "1\n",
      "2\n",
      "3\n",
      "4\n",
      "0\n",
      "2\n"
     ]
    }
   ],
   "source": [
    "hashSet = MyHashSet()\n",
    "key1 = hashSet.key1(\"1\")\n",
    "index = key1 % hashSet.capacity\n",
    "print(index)\n",
    "key1 = hashSet.key1(\"2\")\n",
    "index = key1 % hashSet.capacity\n",
    "print(index)\n",
    "key1 = hashSet.key1(\"3\")\n",
    "index = key1 % hashSet.capacity\n",
    "print(index)\n",
    "key1 = hashSet.key1(\"9\")\n",
    "index = key1 % hashSet.capacity\n",
    "print(index)\n",
    "key1 = hashSet.key1(\"7\")\n",
    "index = key1 % hashSet.capacity\n",
    "print(index)\n",
    "key1 = hashSet.key1(\"pig\")\n",
    "index = key1 % hashSet.capacity\n",
    "print(index)"
   ]
  },
  {
   "cell_type": "markdown",
   "metadata": {},
   "source": [
    "為了確保測值多樣性(？)，我找出每個index的代表，以便等等測試用。"
   ]
  },
  {
   "cell_type": "code",
   "execution_count": 173,
   "metadata": {},
   "outputs": [],
   "source": [
    "class MyHashSet:\n",
    "    def __init__(self, capacity=5):\n",
    "        self.capacity = capacity\n",
    "        self.data = [None] * capacity\n",
    "        \n",
    "    def key1(self, key):\n",
    "        h = MD5.new()\n",
    "        h.update(key.encode(\"utf-8\"))\n",
    "        key1 = int(h.hexdigest(),16)\n",
    "        return key1\n",
    "        \n",
    "    def add(self, key):\n",
    "        key1 = self.key1(key) #加密\n",
    "        index = key1 % self.capacity #Hash Function找抽屜\n",
    "        if self.data[index] != None:#如果定的抽屜已經有東西了\n",
    "            h = self.data[index]            \n",
    "            while h.next == None: #當抽屜裡的東西甲後的節點已經沒東西了                \n",
    "                h.next = ListNode(key1) #就放在東西甲後\n",
    "            h = h.next #當抽屜裡的東西甲後的節點有東西，就繼續往後面 \n",
    "        else:\n",
    "            self.data[index] = ListNode(key1) #對應的抽屜沒東西就直接放進去\n",
    "        \n",
    "    def contains(self, key):\n",
    "        key1 = self.key1(key)\n",
    "        index = key1 % self.capacity\n",
    "        h=self.data[index]\n",
    "        while h != None: #當這個index裡面有東西\n",
    "            if h.val != key1: #key不等於\n",
    "                h = h.next #繼續往下個節點找\n",
    "            else:\n",
    "                return True #找到了就True\n",
    "        else:\n",
    "            return False #沒找到了就False"
   ]
  },
  {
   "cell_type": "code",
   "execution_count": 174,
   "metadata": {},
   "outputs": [
    {
     "name": "stdout",
     "output_type": "stream",
     "text": [
      "True\n",
      "False\n",
      "False\n",
      "False\n",
      "False\n",
      "False\n",
      "False\n",
      "True\n",
      "False\n"
     ]
    }
   ],
   "source": [
    "hashSet = MyHashSet()\n",
    "hashSet.add('pig')\n",
    "hashSet.add('9')\n",
    "rel = hashSet.contains('pig')\n",
    "print(rel)\n",
    "rel = hashSet.contains('dog')\n",
    "print(rel)\n",
    "rel = hashSet.contains('cat')\n",
    "print(rel)\n",
    "rel = hashSet.contains('bird')\n",
    "print(rel)\n",
    "rel = hashSet.contains('1')\n",
    "print(rel)\n",
    "rel = hashSet.contains('2')\n",
    "print(rel)\n",
    "rel = hashSet.contains('3')\n",
    "print(rel)\n",
    "rel = hashSet.contains('9')\n",
    "print(rel)\n",
    "rel = hashSet.contains('7')\n",
    "print(rel)"
   ]
  },
  {
   "cell_type": "markdown",
   "metadata": {},
   "source": [
    "成功了！所以查詢這個功能就是先將Key轉換成index，若該index裡沒東西，就代表鐵定不存在。若該index裡有東西，就進到該index裡找，有兩種可能，一是該Key真的存在，另一種就是index裡有其他Key就是沒有該Key。這兩種情況都要考慮進去。"
   ]
  },
  {
   "cell_type": "markdown",
   "metadata": {},
   "source": [
    "## 移除"
   ]
  },
  {
   "cell_type": "markdown",
   "metadata": {},
   "source": [
    "移除的概念就是，我先搜尋這個Key的位置在哪裡，就在前一個節點的next變成None。"
   ]
  },
  {
   "cell_type": "code",
   "execution_count": 213,
   "metadata": {},
   "outputs": [],
   "source": [
    "class MyHashSet:\n",
    "    def __init__(self, capacity=5):\n",
    "        self.capacity = capacity\n",
    "        self.data = [None] * capacity\n",
    "        \n",
    "    def key1(self, key):\n",
    "        h = MD5.new()\n",
    "        h.update(key.encode(\"utf-8\"))\n",
    "        key1 = int(h.hexdigest(),16)\n",
    "        return key1\n",
    "        \n",
    "    def add(self, key):\n",
    "        key1 = self.key1(key) #加密\n",
    "        index = key1 % self.capacity #Hash Function找抽屜\n",
    "        if self.data[index] != None:#如果定的抽屜已經有東西了\n",
    "            h = self.data[index]            \n",
    "            while h.next == None: #當抽屜裡的東西甲後的節點已經沒東西了                \n",
    "                h.next = ListNode(key1) #就放在東西甲後\n",
    "            h = h.next #當抽屜裡的東西甲後的節點有東西，就繼續往後面 \n",
    "        else:\n",
    "            self.data[index] = ListNode(key1) #對應的抽屜沒東西就直接放進去\n",
    "        \n",
    "    def contains(self, key):\n",
    "        key1 = self.key1(key)\n",
    "        index = key1 % self.capacity\n",
    "        h=self.data[index]\n",
    "        while h != None: #當這個index裡面有東西\n",
    "            if h.val != key1: #key不等於\n",
    "                h = h.next #繼續往下個節點找\n",
    "            else:\n",
    "                return True #找到了就True\n",
    "        else:\n",
    "            return False #沒找到了就False\n",
    "        \n",
    "    def remove(self, key):\n",
    "        key1 = self.key1(key)\n",
    "        index = key1 % self.capacity\n",
    "        h=self.data[index]\n",
    "        while h != None: #和contains一樣的概念\n",
    "            if h.val != key1: \n",
    "                h = h.next \n",
    "            else:\n",
    "                h = None #找到了就把它改成None\n",
    "            return False\n",
    "        else:\n",
    "            return False "
   ]
  },
  {
   "cell_type": "code",
   "execution_count": 211,
   "metadata": {},
   "outputs": [
    {
     "name": "stdout",
     "output_type": "stream",
     "text": [
      "True\n",
      "False\n",
      "False\n",
      "False\n",
      "False\n",
      "True\n",
      "False\n",
      "True\n",
      "True\n",
      "True\n",
      "True\n"
     ]
    }
   ],
   "source": [
    "hashSet = MyHashSet()\n",
    "hashSet.add('pig')\n",
    "hashSet.add('9')\n",
    "hashSet.add('7')\n",
    "hashSet.add('2')\n",
    "hashSet.add('2')\n",
    "rel = hashSet.contains('pig')\n",
    "print(rel)\n",
    "rel = hashSet.contains('dog')\n",
    "print(rel)\n",
    "rel = hashSet.contains('cat')\n",
    "print(rel)\n",
    "rel = hashSet.contains('bird')\n",
    "print(rel)\n",
    "rel = hashSet.contains('1')\n",
    "print(rel)\n",
    "rel = hashSet.contains('2')\n",
    "print(rel)\n",
    "rel = hashSet.contains('3')\n",
    "print(rel)\n",
    "rel = hashSet.contains('9')\n",
    "print(rel)\n",
    "rel = hashSet.contains('7')\n",
    "print(rel)\n",
    "hashSet.remove(\"7\")\n",
    "rel = hashSet.contains(\"7\")\n",
    "print(rel)\n",
    "hashSet.remove(\"2\")\n",
    "rel = hashSet.contains(\"2\")\n",
    "print(rel)"
   ]
  },
  {
   "cell_type": "code",
   "execution_count": 224,
   "metadata": {},
   "outputs": [],
   "source": [
    "class MyHashSet:\n",
    "    def __init__(self, capacity=5):\n",
    "        self.capacity = capacity\n",
    "        self.data = [None] * capacity\n",
    "        \n",
    "    def key1(self, key):\n",
    "        h = MD5.new()\n",
    "        h.update(key.encode(\"utf-8\"))\n",
    "        key1 = int(h.hexdigest(),16)\n",
    "        return key1\n",
    "        \n",
    "    def add(self, key):\n",
    "        key1 = self.key1(key) #加密\n",
    "        index = key1 % self.capacity #Hash Function找抽屜\n",
    "        if self.data[index] != None:#如果定的抽屜已經有東西了\n",
    "            h = self.data[index]            \n",
    "            while h.next == None: #當抽屜裡的東西甲後的節點已經沒東西了                \n",
    "                h.next = ListNode(key1) #就放在東西甲後\n",
    "            h = h.next #當抽屜裡的東西甲後的節點有東西，就繼續往後面 \n",
    "        else:\n",
    "            self.data[index] = ListNode(key1) #對應的抽屜沒東西就直接放進去\n",
    "        \n",
    "    def contains(self, key):\n",
    "        key1 = self.key1(key)\n",
    "        index = key1 % self.capacity\n",
    "        h=self.data[index]\n",
    "        while h != None: #當這個index裡面有東西\n",
    "            if h.val != key1: #key不等於\n",
    "                h = h.next #繼續往下個節點找\n",
    "            else:\n",
    "                return True #找到了就True\n",
    "        else:\n",
    "            return False #沒找到了就False\n",
    "        \n",
    "    def remove(self, key):\n",
    "        key1 = self.key1(key)\n",
    "        index = key1 % self.capacity                  \n",
    "        if self.data[index].val == key1:\n",
    "            if self.data[index].next != True: \n",
    "                self.data[index] = None\n",
    "            else:\n",
    "                self.data[index] = None\n",
    "                self.data[index].next = self.data[index].next.next\n",
    "        else:          \n",
    "            return False"
   ]
  },
  {
   "cell_type": "code",
   "execution_count": 225,
   "metadata": {},
   "outputs": [
    {
     "name": "stdout",
     "output_type": "stream",
     "text": [
      "True\n",
      "False\n",
      "False\n",
      "False\n",
      "True\n",
      "True\n",
      "False\n"
     ]
    },
    {
     "ename": "AttributeError",
     "evalue": "'NoneType' object has no attribute 'val'",
     "output_type": "error",
     "traceback": [
      "\u001b[1;31m---------------------------------------------------------------------------\u001b[0m",
      "\u001b[1;31mAttributeError\u001b[0m                            Traceback (most recent call last)",
      "\u001b[1;32m<ipython-input-225-afd72a8c5894>\u001b[0m in \u001b[0;36m<module>\u001b[1;34m\u001b[0m\n\u001b[0;32m     20\u001b[0m \u001b[0mrel\u001b[0m \u001b[1;33m=\u001b[0m \u001b[0mhashSet\u001b[0m\u001b[1;33m.\u001b[0m\u001b[0mcontains\u001b[0m\u001b[1;33m(\u001b[0m\u001b[1;34m\"pig\"\u001b[0m\u001b[1;33m)\u001b[0m\u001b[1;33m\u001b[0m\u001b[1;33m\u001b[0m\u001b[0m\n\u001b[0;32m     21\u001b[0m \u001b[0mprint\u001b[0m\u001b[1;33m(\u001b[0m\u001b[0mrel\u001b[0m\u001b[1;33m)\u001b[0m\u001b[1;33m\u001b[0m\u001b[1;33m\u001b[0m\u001b[0m\n\u001b[1;32m---> 22\u001b[1;33m \u001b[0mhashSet\u001b[0m\u001b[1;33m.\u001b[0m\u001b[0mremove\u001b[0m\u001b[1;33m(\u001b[0m\u001b[1;34m\"2\"\u001b[0m\u001b[1;33m)\u001b[0m\u001b[1;33m\u001b[0m\u001b[1;33m\u001b[0m\u001b[0m\n\u001b[0m\u001b[0;32m     23\u001b[0m \u001b[0mrel\u001b[0m \u001b[1;33m=\u001b[0m \u001b[0mhashSet\u001b[0m\u001b[1;33m.\u001b[0m\u001b[0mcontains\u001b[0m\u001b[1;33m(\u001b[0m\u001b[1;34m\"2\"\u001b[0m\u001b[1;33m)\u001b[0m\u001b[1;33m\u001b[0m\u001b[1;33m\u001b[0m\u001b[0m\n\u001b[0;32m     24\u001b[0m \u001b[0mprint\u001b[0m\u001b[1;33m(\u001b[0m\u001b[0mrel\u001b[0m\u001b[1;33m)\u001b[0m\u001b[1;33m\u001b[0m\u001b[1;33m\u001b[0m\u001b[0m\n",
      "\u001b[1;32m<ipython-input-224-a2f0b8f53056>\u001b[0m in \u001b[0;36mremove\u001b[1;34m(self, key)\u001b[0m\n\u001b[0;32m     36\u001b[0m         \u001b[0mkey1\u001b[0m \u001b[1;33m=\u001b[0m \u001b[0mself\u001b[0m\u001b[1;33m.\u001b[0m\u001b[0mkey1\u001b[0m\u001b[1;33m(\u001b[0m\u001b[0mkey\u001b[0m\u001b[1;33m)\u001b[0m\u001b[1;33m\u001b[0m\u001b[1;33m\u001b[0m\u001b[0m\n\u001b[0;32m     37\u001b[0m         \u001b[0mindex\u001b[0m \u001b[1;33m=\u001b[0m \u001b[0mkey1\u001b[0m \u001b[1;33m%\u001b[0m \u001b[0mself\u001b[0m\u001b[1;33m.\u001b[0m\u001b[0mcapacity\u001b[0m\u001b[1;33m\u001b[0m\u001b[1;33m\u001b[0m\u001b[0m\n\u001b[1;32m---> 38\u001b[1;33m         \u001b[1;32mif\u001b[0m \u001b[0mself\u001b[0m\u001b[1;33m.\u001b[0m\u001b[0mdata\u001b[0m\u001b[1;33m[\u001b[0m\u001b[0mindex\u001b[0m\u001b[1;33m]\u001b[0m\u001b[1;33m.\u001b[0m\u001b[0mval\u001b[0m \u001b[1;33m==\u001b[0m \u001b[0mkey1\u001b[0m\u001b[1;33m:\u001b[0m\u001b[1;33m\u001b[0m\u001b[1;33m\u001b[0m\u001b[0m\n\u001b[0m\u001b[0;32m     39\u001b[0m             \u001b[1;32mif\u001b[0m \u001b[0mself\u001b[0m\u001b[1;33m.\u001b[0m\u001b[0mdata\u001b[0m\u001b[1;33m[\u001b[0m\u001b[0mindex\u001b[0m\u001b[1;33m]\u001b[0m\u001b[1;33m.\u001b[0m\u001b[0mnext\u001b[0m \u001b[1;33m!=\u001b[0m \u001b[1;32mTrue\u001b[0m\u001b[1;33m:\u001b[0m\u001b[1;33m\u001b[0m\u001b[1;33m\u001b[0m\u001b[0m\n\u001b[0;32m     40\u001b[0m                 \u001b[0mself\u001b[0m\u001b[1;33m.\u001b[0m\u001b[0mdata\u001b[0m\u001b[1;33m[\u001b[0m\u001b[0mindex\u001b[0m\u001b[1;33m]\u001b[0m \u001b[1;33m=\u001b[0m \u001b[1;32mNone\u001b[0m\u001b[1;33m\u001b[0m\u001b[1;33m\u001b[0m\u001b[0m\n",
      "\u001b[1;31mAttributeError\u001b[0m: 'NoneType' object has no attribute 'val'"
     ]
    }
   ],
   "source": [
    "hashSet = MyHashSet()\n",
    "hashSet.add('pig')\n",
    "hashSet.add('9')\n",
    "hashSet.add('7')\n",
    "hashSet.add('2')\n",
    "hashSet.add('2')\n",
    "rel = hashSet.contains('pig')\n",
    "print(rel)\n",
    "rel = hashSet.contains('dog')\n",
    "print(rel)\n",
    "rel = hashSet.contains('cat')\n",
    "print(rel)\n",
    "rel = hashSet.contains('bird')\n",
    "print(rel)\n",
    "rel = hashSet.contains('9')\n",
    "print(rel)\n",
    "rel = hashSet.contains('7')\n",
    "print(rel)\n",
    "hashSet.remove(\"pig\")\n",
    "rel = hashSet.contains(\"pig\")\n",
    "print(rel)\n",
    "hashSet.remove(\"2\")\n",
    "rel = hashSet.contains(\"2\")\n",
    "print(rel)\n"
   ]
  },
  {
   "cell_type": "markdown",
   "metadata": {},
   "source": [
    "以下就是完整程式碼與測值"
   ]
  },
  {
   "cell_type": "code",
   "execution_count": 221,
   "metadata": {},
   "outputs": [],
   "source": [
    "class ListNode:\n",
    "    def __init__(self, val):\n",
    "        self.val = val\n",
    "        self.next = None\n",
    "        \n",
    "class MyHashSet:\n",
    "    def __init__(self, capacity=5):\n",
    "        self.capacity = capacity\n",
    "        self.data = [None] * capacity\n",
    "        \n",
    "    def key1(self, key):\n",
    "        h = MD5.new()\n",
    "        h.update(key.encode(\"utf-8\"))\n",
    "        key1 = int(h.hexdigest(),16)\n",
    "        return key1\n",
    "    \n",
    "    def index(self, key1):\n",
    "        index = key1 % self.capacity\n",
    "        return index\n",
    "        \n",
    "    def add(self, key):\n",
    "        key1 = self.key1(key)\n",
    "        index = self.index(key1)\n",
    "        if self.data[index] != None:\n",
    "            head = self.data[index]            \n",
    "            while head.next == None:               \n",
    "                head.next = ListNode(key1)\n",
    "            head = head.next \n",
    "        else:\n",
    "            self.data[index] = ListNode(key1)    \n",
    "  \n",
    "    def contains(self, key):\n",
    "        key1 = self.key1(key)\n",
    "        index = self.index(key1)\n",
    "        h=self.data[index]\n",
    "        while h != None:\n",
    "            if h.val != key1:\n",
    "                h = h.next\n",
    "            else:\n",
    "                return True\n",
    "        else:\n",
    "            return False\n",
    "        \n",
    "    def remove(self, key):\n",
    "        key1 = self.key1(key)\n",
    "        index = self.index(key1)                   \n",
    "        if self.data[index].val != key1:\n",
    "            while self.data[index]:\n",
    "                if self.data[index].next == key1:\n",
    "                    self.data[index].next = self.data[index].next.next\n",
    "                    return\n",
    "                self.data[index] = self.data[index].next\n",
    "            return False\n",
    "        elif self.data[index].val == key1:\n",
    "            if self.data[index].next != True:\n",
    "                self.data[index] = None\n",
    "            else:\n",
    "                self.data[index] = self.data[index].next\n",
    "                self.data[index] = None\n",
    "        else:          \n",
    "            return False"
   ]
  },
  {
   "cell_type": "code",
   "execution_count": 223,
   "metadata": {},
   "outputs": [
    {
     "name": "stdout",
     "output_type": "stream",
     "text": [
      "True\n",
      "True\n",
      "False\n",
      "True\n",
      "False\n"
     ]
    }
   ],
   "source": [
    "hashSet = MyHashSet()\n",
    "hashSet.add('pig')\n",
    "hashSet.add('pig')\n",
    "hashSet.add('dog')\n",
    "rel = hashSet.contains('pig')\n",
    "print(rel)\n",
    "rel = hashSet.contains('dog')\n",
    "print(rel)\n",
    "rel = hashSet.contains('cat')\n",
    "print(rel)\n",
    "hashSet.add('bird')\n",
    "rel = hashSet.contains('bird')\n",
    "print(rel)\n",
    "hashSet.add('pig')\n",
    "hashSet.add('2')\n",
    "hashSet.remove(\"pig\")\n",
    "rel = hashSet.contains(\"pig\")\n",
    "print(rel)"
   ]
  },
  {
   "cell_type": "markdown",
   "metadata": {},
   "source": [
    "參考資料\n",
    "\n",
    "http://alrightchiu.github.io/SecondRound/hash-tableintrojian-jie.html\n",
    "\n",
    "http://alrightchiu.github.io/SecondRound/hash-tablechaining.html\n",
    "\n",
    "https://toyo0103.blogspot.com/2018/04/hash-table.html"
   ]
  }
 ],
 "metadata": {
  "kernelspec": {
   "display_name": "Python 3",
   "language": "python",
   "name": "python3"
  },
  "language_info": {
   "codemirror_mode": {
    "name": "ipython",
    "version": 3
   },
   "file_extension": ".py",
   "mimetype": "text/x-python",
   "name": "python",
   "nbconvert_exporter": "python",
   "pygments_lexer": "ipython3",
   "version": "3.7.4"
  }
 },
 "nbformat": 4,
 "nbformat_minor": 2
}
