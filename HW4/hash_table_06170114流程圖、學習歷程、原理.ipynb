{
 "cells": [
  {
   "cell_type": "code",
   "execution_count": 1,
   "metadata": {},
   "outputs": [],
   "source": [
    "from Crypto.Hash import MD5"
   ]
  },
  {
   "cell_type": "code",
   "execution_count": 5,
   "metadata": {},
   "outputs": [],
   "source": [
    "class ListNode:\n",
    "    def __init__(self, val):\n",
    "        self.val = val\n",
    "        self.next = None\n",
    "        \n",
    "class MyHashSet:\n",
    "    def __init__(self, capacity=5):\n",
    "        self.capacity = capacity\n",
    "        self.data = [None] * capacity\n",
    "        \n",
    "    def key1(self, key):\n",
    "        h = MD5.new()\n",
    "        h.update(key.encode(\"utf-8\"))\n",
    "        key1 = int(h.hexdigest(),16)\n",
    "        return key1\n",
    "        \n",
    "    def add(self, key):\n",
    "        key1 = self.key1(key)\n",
    "        index = key1 % self.capacity\n",
    "        if self.data[index] != None:\n",
    "            head = self.data[index]            \n",
    "            while head.next == None:               \n",
    "                head.next = ListNode(key1)\n",
    "            head = head.next \n",
    "        else:\n",
    "            self.data[index] = ListNode(key1)    \n",
    "  \n",
    "    def contains(self, key):\n",
    "        key1 = self.key1(key)\n",
    "        index = key1 % self.capacity\n",
    "        h=self.data[index]\n",
    "        while h != None:\n",
    "            if h.val != key1:\n",
    "                h = h.next\n",
    "            else:\n",
    "                h = h.next\n",
    "                return True\n",
    "        else:\n",
    "            return False\n",
    "        \n",
    "    def remove(self, key):\n",
    "        key1 = self.key1(key)\n",
    "        index = key1 % self.capacity                         \n",
    "        if self.data[index].val != key1:\n",
    "            while self.data[index]:\n",
    "                if self.data[index].next == key1:\n",
    "                    self.data[index].next = self.data[index].next.next\n",
    "                    return\n",
    "                self.data[index] = self.data[index].next\n",
    "            return False\n",
    "        elif self.data[index].val == key1:\n",
    "            if self.data[index].next != True:\n",
    "                self.data[index] = None\n",
    "            else:\n",
    "                self.data[index] = self.data[index].next\n",
    "                self.data[index] = None\n",
    "        else:          \n",
    "            return False"
   ]
  },
  {
   "cell_type": "code",
   "execution_count": 6,
   "metadata": {},
   "outputs": [
    {
     "name": "stdout",
     "output_type": "stream",
     "text": [
      "True\n",
      "True\n",
      "False\n",
      "True\n",
      "False\n"
     ]
    }
   ],
   "source": [
    "hashSet = MyHashSet()\n",
    "hashSet.add('pig')\n",
    "hashSet.add('dog')\n",
    "rel = hashSet.contains('pig')\n",
    "print(rel)\n",
    "rel = hashSet.contains('dog')\n",
    "print(rel)\n",
    "rel = hashSet.contains('cat')\n",
    "print(rel)\n",
    "hashSet.add('bird')\n",
    "rel = hashSet.contains('bird')\n",
    "print(rel)\n",
    "hashSet.remove(\"pig\")\n",
    "rel = hashSet.contains(\"pig\")\n",
    "print(rel)"
   ]
  }
 ],
 "metadata": {
  "kernelspec": {
   "display_name": "Python 3",
   "language": "python",
   "name": "python3"
  },
  "language_info": {
   "codemirror_mode": {
    "name": "ipython",
    "version": 3
   },
   "file_extension": ".py",
   "mimetype": "text/x-python",
   "name": "python",
   "nbconvert_exporter": "python",
   "pygments_lexer": "ipython3",
   "version": "3.7.4"
  }
 },
 "nbformat": 4,
 "nbformat_minor": 2
}
