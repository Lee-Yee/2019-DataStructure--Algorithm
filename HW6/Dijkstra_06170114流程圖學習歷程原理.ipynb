{
 "cells": [
  {
   "cell_type": "markdown",
   "metadata": {},
   "source": [
    "# Dijkstra"
   ]
  },
  {
   "cell_type": "markdown",
   "metadata": {},
   "source": [
    "## 流程圖"
   ]
  },
  {
   "cell_type": "markdown",
   "metadata": {},
   "source": [
    "![](https://imgur.com/vtscBUK.jpg)"
   ]
  },
  {
   "cell_type": "markdown",
   "metadata": {},
   "source": [
    "## 原理"
   ]
  },
  {
   "cell_type": "markdown",
   "metadata": {},
   "source": [
    "Dijkstra是單源最短路徑，以某一節點當作出發點，計算從該節點出發到所有其他節點的最短路徑。\n",
    "\n",
    "首先以某一節點當作出發點，例如上圖的0，在與0相連的節點中分別為1和7，所以1和7到0只有一段路徑就直接為最短路徑。\n",
    "\n",
    "而2和6的最短路徑分別為4+8=12和8+1=9，而到8的路線有3條，選擇路徑最短的就是0->1->12->8，之後依此類推便可以計算0到各點的最短路徑。"
   ]
  },
  {
   "cell_type": "markdown",
   "metadata": {},
   "source": [
    "# Kruskal"
   ]
  },
  {
   "cell_type": "markdown",
   "metadata": {},
   "source": [
    "## 流程圖"
   ]
  },
  {
   "cell_type": "markdown",
   "metadata": {},
   "source": [
    "![](https://i.imgur.com/D6soew8.jpg)"
   ]
  },
  {
   "cell_type": "markdown",
   "metadata": {},
   "source": [
    "## 原理"
   ]
  },
  {
   "cell_type": "markdown",
   "metadata": {},
   "source": [
    "Kruskal是以增加邊的觀念做為出發點，走訪完所以的節點。\n",
    "\n",
    "若現在n個點要走訪。\n",
    "\n",
    "首先將所有的邊，依照大小排排列。\n",
    "\n",
    "每次都將最小邊選出來，直到造成繞圈時。\n",
    "\n",
    "則捨棄往下一個去，直到共有n - 1條邊為止。"
   ]
  },
  {
   "cell_type": "code",
   "execution_count": 148,
   "metadata": {},
   "outputs": [],
   "source": [
    "from collections import defaultdict \n",
    "import sys \n",
    "class Graph(): \n",
    "  \n",
    "    def __init__(self, vertices): \n",
    "        self.V = vertices \n",
    "        self.graph = [] \n",
    "        self.graph_matrix = [[0 for column in range(vertices)]  \n",
    "                    for row in range(vertices)] \n",
    "        self.nodes = set()\n",
    "        self.edges = defaultdict(list)\n",
    "        self.distances = {}\n",
    "        \n",
    "    def minDistance(self, dist, sptSet): \n",
    "        min = sys.maxsize\n",
    "        for v in range(self.V): \n",
    "            if dist[v] < min and sptSet[v] == False: \n",
    "                min = dist[v] \n",
    "                min_index = v \n",
    "        return min_index \n",
    "\n",
    "    def dijkstra(self, s): \n",
    "        dist = [sys.maxsize] * self.V \n",
    "        dist[s] = 0\n",
    "        sptSet = [False] * self.V \n",
    "        a={} \n",
    "        for cout in range(self.V): \n",
    "            u = self.minDistance(dist, sptSet) \n",
    "            sptSet[u] = True\n",
    "            for v in range(self.V):                 \n",
    "                if self.graph[u][v] > 0 and sptSet[v] == False and dist[v] > dist[u] + self.graph[u][v]:\n",
    "                    dist[v] = dist[u] + self.graph[u][v] \n",
    "        for node in range(self.V):\n",
    "            a.update( {str(node) : dist[node]} )\n",
    "        return a\n",
    "\n",
    "    def addEdge(self,u,v,w): \n",
    "        self.graph.append([u,v,w]) \n",
    "    \n",
    "    def find(self, parent, i): \n",
    "        if parent[i] != i: \n",
    "            return i \n",
    "        if parent[i] == i: \n",
    "            return i \n",
    "        return self.find(parent, parent[i]) \n",
    "  \n",
    "    def union(self, parent, rank, x, y): \n",
    "        xroot = self.find(parent, x) \n",
    "        yroot = self.find(parent, y) \n",
    "        if rank[xroot] < rank[yroot]: \n",
    "            parent[xroot] = yroot \n",
    "        elif rank[xroot] > rank[yroot]: \n",
    "            parent[yroot] = xroot  \n",
    "        else : \n",
    "            parent[yroot] = xroot \n",
    "            rank[xroot] += 1\n",
    "    \n",
    "    def Kruskal(self): \n",
    "        b = {}\n",
    "        result =[] \n",
    "        i = 0\n",
    "        e = 0\n",
    "        self.graph =  sorted(self.graph,key=lambda item: item[2]) \n",
    "        parent = [] ; rank = [] \n",
    "        for node in range(self.V): \n",
    "            parent.append(node) \n",
    "            rank.append(0) \n",
    "        while e < self.V -1 : \n",
    "            u,v,w =  self.graph[i] \n",
    "            i = i + 1\n",
    "            x = self.find(parent, u) \n",
    "            y = self.find(parent ,v)  \n",
    "            if x != y: \n",
    "                e = e + 1     \n",
    "                result.append([u,v,w]) \n",
    "                self.union(parent, rank, x, y)             \n",
    "        for u,v,weight in result: \n",
    "            u = str(u)\n",
    "            v = str(v)\n",
    "            b.update( {str(u+\"-\"+v):weight} )\n",
    "        return b"
   ]
  },
  {
   "cell_type": "code",
   "execution_count": 152,
   "metadata": {},
   "outputs": [
    {
     "name": "stdout",
     "output_type": "stream",
     "text": [
      "Dijkstra {'0': 0, '1': 4, '2': 12, '3': 19, '4': 28, '5': 11, '6': 9, '7': 8, '8': 14}\n"
     ]
    }
   ],
   "source": [
    "g = Graph(9)\n",
    "g.graph = [[0, 4, 0, 0, 0, 0, 0, 8, 0],\n",
    "           [4, 0, 8, 0, 0, 0, 0, 11, 0],\n",
    "           [0, 8, 0, 7, 0, 4, 0, 8, 2],\n",
    "           [0, 0, 7, 0, 9, 14, 0, 0, 0],\n",
    "           [0, 0, 0, 9, 0, 10, 0, 0, 0],\n",
    "           [0, 0, 4, 14, 0, 0, 2, 0, 0],\n",
    "           [0, 0, 0, 0, 0, 2, 0, 1, 6],\n",
    "           [8, 11, 0, 0, 0, 0, 1, 0, 7],\n",
    "           [0, 0, 2, 0, 0, 0, 6, 7, 0],\n",
    "          ];\n",
    "            \n",
    "print(\"Dijkstra\", g.dijkstra(0))"
   ]
  },
  {
   "cell_type": "code",
   "execution_count": 153,
   "metadata": {},
   "outputs": [
    {
     "name": "stdout",
     "output_type": "stream",
     "text": [
      "Kruskal {'2-3': 4, '0-3': 5, '0-1': 10}\n"
     ]
    }
   ],
   "source": [
    "g = Graph(4)\n",
    "g.addEdge(0, 1, 10)\n",
    "g.addEdge(0, 2, 6)\n",
    "g.addEdge(0, 3, 5)\n",
    "g.addEdge(1, 3, 15)\n",
    "g.addEdge(2, 3, 4)\n",
    "\n",
    "print(\"Kruskal\", g.Kruskal())"
   ]
  },
  {
   "cell_type": "markdown",
   "metadata": {},
   "source": [
    "參考資料\n",
    "https://www.geeksforgeeks.org/kruskals-minimum-spanning-tree-algorithm-greedy-algo-2/\n",
    "https://www.itread01.com/content/1549051928.html\n",
    "https://gist.github.com/econchick/4666413\n",
    "https://dev.to/mxl/dijkstras-algorithm-in-python-algorithms-for-beginners-dkc\n",
    "https://www.geeksforgeeks.org/python-program-for-dijkstras-shortest-path-algorithm-greedy-algo-7/\n",
    "https://stackoverflow.com/questions/22897209/dijkstras-algorithm-in-python\n",
    "https://morioh.com/p/ec5873a4c9f5\n",
    "https://thispointer.com/python-how-to-add-append-key-value-pairs-in-dictionary-using-dict-update/\n",
    "https://medium.com/cantors-paradise/dijkstras-shortest-path-algorithm-in-python-d955744c7064\n",
    "https://github.com/anujdutt9/Python-Data-Structures-and-Algorithms/blob/master/Dijkstras_Algorithm/Dijkstra.py\n",
    "http://nthucad.cs.nthu.edu.tw/~yyliu/personal/nou/04ds/kruskal.html"
   ]
  }
 ],
 "metadata": {
  "kernelspec": {
   "display_name": "Python 3",
   "language": "python",
   "name": "python3"
  },
  "language_info": {
   "codemirror_mode": {
    "name": "ipython",
    "version": 3
   },
   "file_extension": ".py",
   "mimetype": "text/x-python",
   "name": "python",
   "nbconvert_exporter": "python",
   "pygments_lexer": "ipython3",
   "version": "3.7.4"
  }
 },
 "nbformat": 4,
 "nbformat_minor": 2
}
